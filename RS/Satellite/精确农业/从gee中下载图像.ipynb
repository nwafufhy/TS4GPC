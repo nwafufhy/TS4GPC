{
 "cells": [
  {
   "cell_type": "code",
   "execution_count": 1,
   "metadata": {},
   "outputs": [],
   "source": [
    "import ee\n",
    "import geemap\n",
    "ee.Authenticate()\n",
    "ee.Initialize(project='ee-hyf7753')"
   ]
  },
  {
   "cell_type": "code",
   "execution_count": 2,
   "metadata": {},
   "outputs": [
    {
     "data": {
      "text/html": [
       "\n",
       "            <style>\n",
       "                .geemap-dark {\n",
       "                    --jp-widgets-color: white;\n",
       "                    --jp-widgets-label-color: white;\n",
       "                    --jp-ui-font-color1: white;\n",
       "                    --jp-layout-color2: #454545;\n",
       "                    background-color: #383838;\n",
       "                }\n",
       "\n",
       "                .geemap-dark .jupyter-button {\n",
       "                    --jp-layout-color3: #383838;\n",
       "                }\n",
       "\n",
       "                .geemap-colab {\n",
       "                    background-color: var(--colab-primary-surface-color, white);\n",
       "                }\n",
       "\n",
       "                .geemap-colab .jupyter-button {\n",
       "                    --jp-layout-color3: var(--colab-primary-surface-color, white);\n",
       "                }\n",
       "            </style>\n",
       "            "
      ],
      "text/plain": [
       "<IPython.core.display.HTML object>"
      ]
     },
     "metadata": {},
     "output_type": "display_data"
    },
    {
     "name": "stderr",
     "output_type": "stream",
     "text": [
      "Consider adjusting `region`, `scale` and/or `dtype` to reduce the landsat.tif download size (raw: 1.02 GB).\n"
     ]
    },
    {
     "data": {
      "application/vnd.jupyter.widget-view+json": {
       "model_id": "30638abce2ba4ca0a67dec8237f2aa02",
       "version_major": 2,
       "version_minor": 0
      },
      "text/plain": [
       "landsat.tif: |          | 0.00/1.02G (raw) [  0.0%] in 00:00 (eta:     ?)"
      ]
     },
     "metadata": {},
     "output_type": "display_data"
    }
   ],
   "source": [
    "Map = geemap.Map()\n",
    "\n",
    "## 下载单张图片\n",
    "image = ee.ImageCollection(\"LANDSAT/LC08/C02/T1_TOA\").first()\n",
    "Map.addLayer(image, {}, \"Landsat\")\n",
    "Map.centerObject(image)\n",
    "geemap.download_ee_image(image, \"landsat.tif\", scale=100)"
   ]
  },
  {
   "cell_type": "code",
   "execution_count": 6,
   "metadata": {},
   "outputs": [
    {
     "data": {
      "text/html": [
       "\n",
       "            <style>\n",
       "                .geemap-dark {\n",
       "                    --jp-widgets-color: white;\n",
       "                    --jp-widgets-label-color: white;\n",
       "                    --jp-ui-font-color1: white;\n",
       "                    --jp-layout-color2: #454545;\n",
       "                    background-color: #383838;\n",
       "                }\n",
       "\n",
       "                .geemap-dark .jupyter-button {\n",
       "                    --jp-layout-color3: #383838;\n",
       "                }\n",
       "\n",
       "                .geemap-colab {\n",
       "                    background-color: var(--colab-primary-surface-color, white);\n",
       "                }\n",
       "\n",
       "                .geemap-colab .jupyter-button {\n",
       "                    --jp-layout-color3: var(--colab-primary-surface-color, white);\n",
       "                }\n",
       "            </style>\n",
       "            "
      ],
      "text/plain": [
       "<IPython.core.display.HTML object>"
      ]
     },
     "metadata": {},
     "output_type": "display_data"
    },
    {
     "name": "stdout",
     "output_type": "stream",
     "text": [
      "Collecting geedim\n",
      "  Downloading geedim-1.9.0-py3-none-any.whl.metadata (13 kB)\n",
      "Requirement already satisfied: numpy>=1.19 in d:\\work\\ts4gpc\\.conda\\lib\\site-packages (from geedim) (2.0.2)\n",
      "Collecting rasterio>=1.3.8 (from geedim)\n",
      "  Downloading rasterio-1.4.3-cp39-cp39-win_amd64.whl.metadata (9.4 kB)\n",
      "Requirement already satisfied: click>=8 in d:\\work\\ts4gpc\\.conda\\lib\\site-packages (from geedim) (8.1.7)\n",
      "Collecting tqdm>=4.6 (from geedim)\n",
      "  Downloading tqdm-4.67.1-py3-none-any.whl.metadata (57 kB)\n",
      "Requirement already satisfied: earthengine-api>=0.1.379 in d:\\work\\ts4gpc\\.conda\\lib\\site-packages (from geedim) (1.4.0)\n",
      "Requirement already satisfied: requests>=2.2 in d:\\work\\ts4gpc\\.conda\\lib\\site-packages (from geedim) (2.32.3)\n",
      "Collecting tabulate>=0.8 (from geedim)\n",
      "  Downloading tabulate-0.9.0-py3-none-any.whl.metadata (34 kB)\n",
      "Requirement already satisfied: colorama in d:\\work\\ts4gpc\\.conda\\lib\\site-packages (from click>=8->geedim) (0.4.6)\n",
      "Requirement already satisfied: google-cloud-storage in d:\\work\\ts4gpc\\.conda\\lib\\site-packages (from earthengine-api>=0.1.379->geedim) (2.18.2)\n",
      "Requirement already satisfied: google-api-python-client>=1.12.1 in d:\\work\\ts4gpc\\.conda\\lib\\site-packages (from earthengine-api>=0.1.379->geedim) (2.154.0)\n",
      "Requirement already satisfied: google-auth>=1.4.1 in d:\\work\\ts4gpc\\.conda\\lib\\site-packages (from earthengine-api>=0.1.379->geedim) (2.36.0)\n",
      "Requirement already satisfied: google-auth-httplib2>=0.0.3 in d:\\work\\ts4gpc\\.conda\\lib\\site-packages (from earthengine-api>=0.1.379->geedim) (0.2.0)\n",
      "Requirement already satisfied: httplib2<1dev,>=0.9.2 in d:\\work\\ts4gpc\\.conda\\lib\\site-packages (from earthengine-api>=0.1.379->geedim) (0.22.0)\n",
      "Collecting affine (from rasterio>=1.3.8->geedim)\n",
      "  Downloading affine-2.4.0-py3-none-any.whl.metadata (4.0 kB)\n",
      "Requirement already satisfied: attrs in d:\\work\\ts4gpc\\.conda\\lib\\site-packages (from rasterio>=1.3.8->geedim) (24.2.0)\n",
      "Requirement already satisfied: certifi in d:\\work\\ts4gpc\\.conda\\lib\\site-packages (from rasterio>=1.3.8->geedim) (2024.8.30)\n",
      "Collecting cligj>=0.5 (from rasterio>=1.3.8->geedim)\n",
      "  Downloading cligj-0.7.2-py3-none-any.whl.metadata (5.0 kB)\n",
      "Requirement already satisfied: importlib-metadata in d:\\work\\ts4gpc\\.conda\\lib\\site-packages (from rasterio>=1.3.8->geedim) (7.0.1)\n",
      "Collecting click-plugins (from rasterio>=1.3.8->geedim)\n",
      "  Downloading click_plugins-1.1.1-py2.py3-none-any.whl.metadata (6.4 kB)\n",
      "Requirement already satisfied: pyparsing in d:\\work\\ts4gpc\\.conda\\lib\\site-packages (from rasterio>=1.3.8->geedim) (3.2.0)\n",
      "Requirement already satisfied: charset-normalizer<4,>=2 in d:\\work\\ts4gpc\\.conda\\lib\\site-packages (from requests>=2.2->geedim) (3.4.0)\n",
      "Requirement already satisfied: idna<4,>=2.5 in d:\\work\\ts4gpc\\.conda\\lib\\site-packages (from requests>=2.2->geedim) (3.10)\n",
      "Requirement already satisfied: urllib3<3,>=1.21.1 in d:\\work\\ts4gpc\\.conda\\lib\\site-packages (from requests>=2.2->geedim) (2.2.3)\n",
      "Requirement already satisfied: google-api-core!=2.0.*,!=2.1.*,!=2.2.*,!=2.3.0,<3.0.0.dev0,>=1.31.5 in d:\\work\\ts4gpc\\.conda\\lib\\site-packages (from google-api-python-client>=1.12.1->earthengine-api>=0.1.379->geedim) (2.23.0)\n",
      "Requirement already satisfied: uritemplate<5,>=3.0.1 in d:\\work\\ts4gpc\\.conda\\lib\\site-packages (from google-api-python-client>=1.12.1->earthengine-api>=0.1.379->geedim) (4.1.1)\n",
      "Requirement already satisfied: cachetools<6.0,>=2.0.0 in d:\\work\\ts4gpc\\.conda\\lib\\site-packages (from google-auth>=1.4.1->earthengine-api>=0.1.379->geedim) (5.5.0)\n",
      "Requirement already satisfied: pyasn1-modules>=0.2.1 in d:\\work\\ts4gpc\\.conda\\lib\\site-packages (from google-auth>=1.4.1->earthengine-api>=0.1.379->geedim) (0.4.1)\n",
      "Requirement already satisfied: rsa<5,>=3.1.4 in d:\\work\\ts4gpc\\.conda\\lib\\site-packages (from google-auth>=1.4.1->earthengine-api>=0.1.379->geedim) (4.9)\n",
      "Requirement already satisfied: google-cloud-core<3.0dev,>=2.3.0 in d:\\work\\ts4gpc\\.conda\\lib\\site-packages (from google-cloud-storage->earthengine-api>=0.1.379->geedim) (2.4.1)\n",
      "Requirement already satisfied: google-resumable-media>=2.7.2 in d:\\work\\ts4gpc\\.conda\\lib\\site-packages (from google-cloud-storage->earthengine-api>=0.1.379->geedim) (2.7.2)\n",
      "Requirement already satisfied: google-crc32c<2.0dev,>=1.0 in d:\\work\\ts4gpc\\.conda\\lib\\site-packages (from google-cloud-storage->earthengine-api>=0.1.379->geedim) (1.6.0)\n",
      "Requirement already satisfied: zipp>=0.5 in d:\\work\\ts4gpc\\.conda\\lib\\site-packages (from importlib-metadata->rasterio>=1.3.8->geedim) (3.20.2)\n",
      "Requirement already satisfied: googleapis-common-protos<2.0.dev0,>=1.56.2 in d:\\work\\ts4gpc\\.conda\\lib\\site-packages (from google-api-core!=2.0.*,!=2.1.*,!=2.2.*,!=2.3.0,<3.0.0.dev0,>=1.31.5->google-api-python-client>=1.12.1->earthengine-api>=0.1.379->geedim) (1.66.0)\n",
      "Requirement already satisfied: protobuf!=3.20.0,!=3.20.1,!=4.21.0,!=4.21.1,!=4.21.2,!=4.21.3,!=4.21.4,!=4.21.5,<6.0.0.dev0,>=3.19.5 in d:\\work\\ts4gpc\\.conda\\lib\\site-packages (from google-api-core!=2.0.*,!=2.1.*,!=2.2.*,!=2.3.0,<3.0.0.dev0,>=1.31.5->google-api-python-client>=1.12.1->earthengine-api>=0.1.379->geedim) (5.28.3)\n",
      "Requirement already satisfied: proto-plus<2.0.0dev,>=1.22.3 in d:\\work\\ts4gpc\\.conda\\lib\\site-packages (from google-api-core!=2.0.*,!=2.1.*,!=2.2.*,!=2.3.0,<3.0.0.dev0,>=1.31.5->google-api-python-client>=1.12.1->earthengine-api>=0.1.379->geedim) (1.25.0)\n",
      "Requirement already satisfied: pyasn1<0.7.0,>=0.4.6 in d:\\work\\ts4gpc\\.conda\\lib\\site-packages (from pyasn1-modules>=0.2.1->google-auth>=1.4.1->earthengine-api>=0.1.379->geedim) (0.6.1)\n",
      "Downloading geedim-1.9.0-py3-none-any.whl (73 kB)\n",
      "Downloading rasterio-1.4.3-cp39-cp39-win_amd64.whl (25.4 MB)\n",
      "   ---------------------------------------- 0.0/25.4 MB ? eta -:--:--\n",
      "   ---------------------------------------- 0.3/25.4 MB ? eta -:--:--\n",
      "   - -------------------------------------- 1.0/25.4 MB 6.3 MB/s eta 0:00:04\n",
      "   ------ --------------------------------- 4.2/25.4 MB 9.0 MB/s eta 0:00:03\n",
      "   --------- ------------------------------ 6.3/25.4 MB 10.2 MB/s eta 0:00:02\n",
      "   ------------- -------------------------- 8.7/25.4 MB 10.1 MB/s eta 0:00:02\n",
      "   ------------------ --------------------- 11.5/25.4 MB 10.9 MB/s eta 0:00:02\n",
      "   --------------------- ------------------ 13.6/25.4 MB 10.6 MB/s eta 0:00:02\n",
      "   -------------------------- ------------- 16.8/25.4 MB 11.0 MB/s eta 0:00:01\n",
      "   ------------------------------ --------- 19.1/25.4 MB 11.1 MB/s eta 0:00:01\n",
      "   -------------------------------- ------- 20.4/25.4 MB 11.1 MB/s eta 0:00:01\n",
      "   ------------------------------------- -- 24.1/25.4 MB 11.1 MB/s eta 0:00:01\n",
      "   ---------------------------------------- 25.4/25.4 MB 10.8 MB/s eta 0:00:00\n",
      "Downloading tabulate-0.9.0-py3-none-any.whl (35 kB)\n",
      "Downloading tqdm-4.67.1-py3-none-any.whl (78 kB)\n",
      "Downloading cligj-0.7.2-py3-none-any.whl (7.1 kB)\n",
      "Downloading affine-2.4.0-py3-none-any.whl (15 kB)\n",
      "Downloading click_plugins-1.1.1-py2.py3-none-any.whl (7.5 kB)\n",
      "Installing collected packages: tqdm, tabulate, affine, cligj, click-plugins, rasterio, geedim\n",
      "Successfully installed affine-2.4.0 click-plugins-1.1.1 cligj-0.7.2 geedim-1.9.0 rasterio-1.4.3 tabulate-0.9.0 tqdm-4.67.1\n",
      "Note: you may need to restart the kernel to use updated packages.\n"
     ]
    },
    {
     "name": "stderr",
     "output_type": "stream",
     "text": [
      "  WARNING: The script tqdm.exe is installed in 'd:\\work\\TS4GPC\\.conda\\Scripts' which is not on PATH.\n",
      "  Consider adding this directory to PATH or, if you prefer to suppress this warning, use --no-warn-script-location.\n",
      "  WARNING: The script tabulate.exe is installed in 'd:\\work\\TS4GPC\\.conda\\Scripts' which is not on PATH.\n",
      "  Consider adding this directory to PATH or, if you prefer to suppress this warning, use --no-warn-script-location.\n",
      "  WARNING: The script rio.exe is installed in 'd:\\work\\TS4GPC\\.conda\\Scripts' which is not on PATH.\n",
      "  Consider adding this directory to PATH or, if you prefer to suppress this warning, use --no-warn-script-location.\n",
      "  WARNING: The script geedim.exe is installed in 'd:\\work\\TS4GPC\\.conda\\Scripts' which is not on PATH.\n",
      "  Consider adding this directory to PATH or, if you prefer to suppress this warning, use --no-warn-script-location.\n"
     ]
    }
   ],
   "source": [
    "%pip install geedim"
   ]
  }
 ],
 "metadata": {
  "kernelspec": {
   "display_name": ".conda",
   "language": "python",
   "name": "python3"
  },
  "language_info": {
   "codemirror_mode": {
    "name": "ipython",
    "version": 3
   },
   "file_extension": ".py",
   "mimetype": "text/x-python",
   "name": "python",
   "nbconvert_exporter": "python",
   "pygments_lexer": "ipython3",
   "version": "3.9.20"
  }
 },
 "nbformat": 4,
 "nbformat_minor": 2
}
