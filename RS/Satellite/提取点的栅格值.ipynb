{
 "cells": [
  {
   "cell_type": "markdown",
   "metadata": {},
   "source": [
    "# 参考文献：https://developers.google.com/earth-engine/tutorials/community/extract-raster-values-for-points\n",
    "# zonalStats\n",
    "减少器（reducer）为均值（ee.Reducer.mean()）\n",
    "scale、crs（坐标参考系统）默认为 null\n",
    "bands 和 bandsRename 用于指定要处理的波段及其重命名，默认为 null\n",
    "imgProps 和 imgPropsRename 用于指定要从图像属性中复制并可能重命名的属性\n",
    "datetimeName 和 datetimeFormat 用于设置日期时间属性的名称和格式\n",
    "\n",
    "目的：得到gee的imagecolletion的目标polygon下的栅格平均值，输出为一个df，第一列为日期，其余列为波段数据"
   ]
  }
 ],
 "metadata": {
  "language_info": {
   "name": "python"
  }
 },
 "nbformat": 4,
 "nbformat_minor": 2
}
