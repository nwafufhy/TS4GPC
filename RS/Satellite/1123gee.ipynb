{
 "cells": [
  {
   "cell_type": "code",
   "execution_count": 1,
   "metadata": {},
   "outputs": [
    {
     "name": "stderr",
     "output_type": "stream",
     "text": [
      "*** Earth Engine *** Share your feedback by taking our Annual Developer Satisfaction Survey: https://google.qualtrics.com/jfe/form/SV_0JLhFqfSY1uiEaW?source=Init\n"
     ]
    }
   ],
   "source": [
    "import ee\n",
    "ee.Authenticate()\n",
    "ee.Initialize(project='ee-hyf7753')"
   ]
  },
  {
   "cell_type": "code",
   "execution_count": 2,
   "metadata": {},
   "outputs": [
    {
     "data": {
      "text/plain": [
       "<ee.image.Image at 0x1cb8880cdc0>"
      ]
     },
     "execution_count": 2,
     "metadata": {},
     "output_type": "execute_result"
    }
   ],
   "source": [
    "jan_2023_climate = (\n",
    "    ee.ImageCollection('ECMWF/ERA5_LAND/MONTHLY_AGGR')\n",
    "    .filterDate('2023-01', '2023-02')\n",
    "    .first()\n",
    ")\n",
    "jan_2023_climate"
   ]
  },
  {
   "cell_type": "code",
   "execution_count": null,
   "metadata": {},
   "outputs": [],
   "source": [
    "# %pip list\n",
    "# %pip install geemap\n",
    "# geemap不是Google Earth Engine API的一部分，它是一个基于folium和ipywidgets的Python库，用于在Jupyter Notebook中快速创建和交互GEE地图。\n",
    "import geemap"
   ]
  },
  {
   "cell_type": "code",
   "execution_count": 4,
   "metadata": {},
   "outputs": [
    {
     "data": {
      "text/html": [
       "\n",
       "            <style>\n",
       "                .geemap-dark {\n",
       "                    --jp-widgets-color: white;\n",
       "                    --jp-widgets-label-color: white;\n",
       "                    --jp-ui-font-color1: white;\n",
       "                    --jp-layout-color2: #454545;\n",
       "                    background-color: #383838;\n",
       "                }\n",
       "\n",
       "                .geemap-dark .jupyter-button {\n",
       "                    --jp-layout-color3: #383838;\n",
       "                }\n",
       "\n",
       "                .geemap-colab {\n",
       "                    background-color: var(--colab-primary-surface-color, white);\n",
       "                }\n",
       "\n",
       "                .geemap-colab .jupyter-button {\n",
       "                    --jp-layout-color3: var(--colab-primary-surface-color, white);\n",
       "                }\n",
       "            </style>\n",
       "            "
      ],
      "text/plain": [
       "<IPython.core.display.HTML object>"
      ]
     },
     "metadata": {},
     "output_type": "display_data"
    }
   ],
   "source": [
    "# geemap.set_proxy(port='7890')"
   ]
  },
  {
   "cell_type": "code",
   "execution_count": 5,
   "metadata": {},
   "outputs": [
    {
     "data": {
      "text/html": [
       "\n",
       "            <style>\n",
       "                .geemap-dark {\n",
       "                    --jp-widgets-color: white;\n",
       "                    --jp-widgets-label-color: white;\n",
       "                    --jp-ui-font-color1: white;\n",
       "                    --jp-layout-color2: #454545;\n",
       "                    background-color: #383838;\n",
       "                }\n",
       "\n",
       "                .geemap-dark .jupyter-button {\n",
       "                    --jp-layout-color3: #383838;\n",
       "                }\n",
       "\n",
       "                .geemap-colab {\n",
       "                    background-color: var(--colab-primary-surface-color, white);\n",
       "                }\n",
       "\n",
       "                .geemap-colab .jupyter-button {\n",
       "                    --jp-layout-color3: var(--colab-primary-surface-color, white);\n",
       "                }\n",
       "            </style>\n",
       "            "
      ],
      "text/plain": [
       "<IPython.core.display.HTML object>"
      ]
     },
     "metadata": {},
     "output_type": "display_data"
    }
   ],
   "source": [
    "# import os \n",
    "# os.enviorn['HTTP_PROXY']='http://127.0.0.1:7890'\n",
    "# os.environ['HTTPS_PROXY'] = 'http://127.0.0.1:7890'"
   ]
  },
  {
   "cell_type": "code",
   "execution_count": 6,
   "metadata": {},
   "outputs": [
    {
     "data": {
      "text/html": [
       "\n",
       "            <style>\n",
       "                .geemap-dark {\n",
       "                    --jp-widgets-color: white;\n",
       "                    --jp-widgets-label-color: white;\n",
       "                    --jp-ui-font-color1: white;\n",
       "                    --jp-layout-color2: #454545;\n",
       "                    background-color: #383838;\n",
       "                }\n",
       "\n",
       "                .geemap-dark .jupyter-button {\n",
       "                    --jp-layout-color3: #383838;\n",
       "                }\n",
       "\n",
       "                .geemap-colab {\n",
       "                    background-color: var(--colab-primary-surface-color, white);\n",
       "                }\n",
       "\n",
       "                .geemap-colab .jupyter-button {\n",
       "                    --jp-layout-color3: var(--colab-primary-surface-color, white);\n",
       "                }\n",
       "            </style>\n",
       "            "
      ],
      "text/plain": [
       "<IPython.core.display.HTML object>"
      ]
     },
     "metadata": {},
     "output_type": "display_data"
    }
   ],
   "source": [
    "# \"jupyter.widgetScriptSources\": [\"jsdelivr.com\", \"unpkg.com\"],\n",
    "# https://github.com/microsoft/vscode-jupyter/wiki/IPyWidget-Support-in-VS-Code-Python"
   ]
  },
  {
   "cell_type": "code",
   "execution_count": 7,
   "metadata": {},
   "outputs": [
    {
     "data": {
      "text/html": [
       "\n",
       "            <style>\n",
       "                .geemap-dark {\n",
       "                    --jp-widgets-color: white;\n",
       "                    --jp-widgets-label-color: white;\n",
       "                    --jp-ui-font-color1: white;\n",
       "                    --jp-layout-color2: #454545;\n",
       "                    background-color: #383838;\n",
       "                }\n",
       "\n",
       "                .geemap-dark .jupyter-button {\n",
       "                    --jp-layout-color3: #383838;\n",
       "                }\n",
       "\n",
       "                .geemap-colab {\n",
       "                    background-color: var(--colab-primary-surface-color, white);\n",
       "                }\n",
       "\n",
       "                .geemap-colab .jupyter-button {\n",
       "                    --jp-layout-color3: var(--colab-primary-surface-color, white);\n",
       "                }\n",
       "            </style>\n",
       "            "
      ],
      "text/plain": [
       "<IPython.core.display.HTML object>"
      ]
     },
     "metadata": {},
     "output_type": "display_data"
    },
    {
     "data": {
      "application/vnd.jupyter.widget-view+json": {
       "model_id": "9fb70c3547a0480d85224b74339942fe",
       "version_major": 2,
       "version_minor": 0
      },
      "text/plain": [
       "Map(center=[30, 0], controls=(WidgetControl(options=['position', 'transparent_bg'], widget=SearchDataGUI(child…"
      ]
     },
     "execution_count": 7,
     "metadata": {},
     "output_type": "execute_result"
    }
   ],
   "source": [
    "m = geemap.Map(center=[30, 0], zoom=2)\n",
    "\n",
    "vis_params = {\n",
    "    'bands': ['temperature_2m'],\n",
    "    'min': 229,\n",
    "    'max': 304,\n",
    "    'palette': 'inferno',\n",
    "}\n",
    "m.add_layer(jan_2023_climate, vis_params, 'Temperature (K)')\n",
    "m"
   ]
  },
  {
   "cell_type": "code",
   "execution_count": 8,
   "metadata": {},
   "outputs": [
    {
     "data": {
      "text/html": [
       "\n",
       "            <style>\n",
       "                .geemap-dark {\n",
       "                    --jp-widgets-color: white;\n",
       "                    --jp-widgets-label-color: white;\n",
       "                    --jp-ui-font-color1: white;\n",
       "                    --jp-layout-color2: #454545;\n",
       "                    background-color: #383838;\n",
       "                }\n",
       "\n",
       "                .geemap-dark .jupyter-button {\n",
       "                    --jp-layout-color3: #383838;\n",
       "                }\n",
       "\n",
       "                .geemap-colab {\n",
       "                    background-color: var(--colab-primary-surface-color, white);\n",
       "                }\n",
       "\n",
       "                .geemap-colab .jupyter-button {\n",
       "                    --jp-layout-color3: var(--colab-primary-surface-color, white);\n",
       "                }\n",
       "            </style>\n",
       "            "
      ],
      "text/plain": [
       "<IPython.core.display.HTML object>"
      ]
     },
     "metadata": {},
     "output_type": "display_data"
    },
    {
     "data": {
      "text/html": [
       "<div><style>:root {\n",
       "  --font-color-primary: var(--jp-content-font-color0, rgba(0, 0, 0, 1));\n",
       "  --font-color-secondary: var(--jp-content-font-color2, rgba(0, 0, 0, 0.6));\n",
       "  --font-color-accent: rgba(123, 31, 162, 1);\n",
       "  --border-color: var(--jp-border-color2, #e0e0e0);\n",
       "  --background-color: var(--jp-layout-color0, white);\n",
       "  --background-color-row-even: var(--jp-layout-color1, white);\n",
       "  --background-color-row-odd: var(--jp-layout-color2, #eeeeee);\n",
       "}\n",
       "\n",
       "html[theme=\"dark\"],\n",
       "body[data-theme=\"dark\"],\n",
       "body.vscode-dark {\n",
       "  --font-color-primary: rgba(255, 255, 255, 1);\n",
       "  --font-color-secondary: rgba(255, 255, 255, 0.6);\n",
       "  --font-color-accent: rgb(173, 132, 190);\n",
       "  --border-color: #2e2e2e;\n",
       "  --background-color: #111111;\n",
       "  --background-color-row-even: #111111;\n",
       "  --background-color-row-odd: #313131;\n",
       "}\n",
       "\n",
       ".ee {\n",
       "  padding: 1em;\n",
       "  line-height: 1.5em;\n",
       "  min-width: 300px;\n",
       "  max-width: 1200px;\n",
       "  overflow-y: scroll;\n",
       "  max-height: 600px;\n",
       "  border: 1px solid var(--border-color);\n",
       "  font-family: monospace;\n",
       "}\n",
       "\n",
       ".ee li {\n",
       "  list-style-type: none;\n",
       "}\n",
       "\n",
       ".ee ul {\n",
       "  padding-left: 1.5em !important;\n",
       "  margin: 0;\n",
       "}\n",
       "\n",
       ".ee > ul {\n",
       "  padding-left: 0 !important;\n",
       "}\n",
       "\n",
       ".ee-open,\n",
       ".ee-shut {\n",
       "  color: var(--font-color-secondary);\n",
       "  cursor: pointer;\n",
       "  margin: 0;\n",
       "}\n",
       "\n",
       ".ee-open:hover,\n",
       ".ee-shut:hover {\n",
       "  color: var(--font-color-primary);\n",
       "}\n",
       "\n",
       ".ee-k {\n",
       "  color: var(--font-color-accent);\n",
       "  margin-right: 6px;\n",
       "}\n",
       "\n",
       ".ee-v {\n",
       "  color: var(--font-color-primary);\n",
       "}\n",
       "\n",
       ".ee-toggle {\n",
       "  display: none;\n",
       "}\n",
       "\n",
       ".ee-shut + ul {\n",
       "  display: none;\n",
       "}\n",
       "\n",
       ".ee-open + ul {\n",
       "  display: block;\n",
       "}\n",
       "\n",
       ".ee-shut::before {\n",
       "  display: inline-block;\n",
       "  content: \"▼\";\n",
       "  margin-right: 6px;\n",
       "  transform: rotate(-90deg);\n",
       "  transition: transform 0.2s;\n",
       "}\n",
       "\n",
       ".ee-open::before {\n",
       "  transform: rotate(0deg);\n",
       "  display: inline-block;\n",
       "  content: \"▼\";\n",
       "  margin-right: 6px;\n",
       "  transition: transform 0.2s;\n",
       "}\n",
       "</style><div class='ee'><ul><li><label class='ee-shut'>FeatureCollection (3 elements, 2 columns)<input type='checkbox' class='ee-toggle'></label><ul><li><span class='ee-k'>type:</span><span class='ee-v'>FeatureCollection</span></li><li><label class='ee-shut'>columns: Object (2 properties)<input type='checkbox' class='ee-toggle'></label><ul><li><span class='ee-k'>city:</span><span class='ee-v'>String</span></li><li><span class='ee-k'>system:index:</span><span class='ee-v'>String</span></li></ul></li><li><label class='ee-shut'>features: List (3 elements)<input type='checkbox' class='ee-toggle'></label><ul><li><label class='ee-shut'>0: Feature (Point, 1 property)<input type='checkbox' class='ee-toggle'></label><ul><li><span class='ee-k'>type:</span><span class='ee-v'>Feature</span></li><li><span class='ee-k'>id:</span><span class='ee-v'>0</span></li><li><label class='ee-shut'>geometry: Point (10.75, 59.91)<input type='checkbox' class='ee-toggle'></label><ul><li><span class='ee-k'>type:</span><span class='ee-v'>Point</span></li><li><label class='ee-shut'>coordinates: [10.75, 59.91]<input type='checkbox' class='ee-toggle'></label><ul><li><span class='ee-k'>0:</span><span class='ee-v'>10.75</span></li><li><span class='ee-k'>1:</span><span class='ee-v'>59.91</span></li></ul></li></ul></li><li><label class='ee-shut'>properties: Object (1 property)<input type='checkbox' class='ee-toggle'></label><ul><li><span class='ee-k'>city:</span><span class='ee-v'>Oslo</span></li></ul></li></ul></li><li><label class='ee-shut'>1: Feature (Point, 1 property)<input type='checkbox' class='ee-toggle'></label><ul><li><span class='ee-k'>type:</span><span class='ee-v'>Feature</span></li><li><span class='ee-k'>id:</span><span class='ee-v'>1</span></li><li><label class='ee-shut'>geometry: Point (-118.24, 34.05)<input type='checkbox' class='ee-toggle'></label><ul><li><span class='ee-k'>type:</span><span class='ee-v'>Point</span></li><li><label class='ee-shut'>coordinates: [-118.24, 34.05]<input type='checkbox' class='ee-toggle'></label><ul><li><span class='ee-k'>0:</span><span class='ee-v'>-118.24</span></li><li><span class='ee-k'>1:</span><span class='ee-v'>34.05</span></li></ul></li></ul></li><li><label class='ee-shut'>properties: Object (1 property)<input type='checkbox' class='ee-toggle'></label><ul><li><span class='ee-k'>city:</span><span class='ee-v'>Los Angeles</span></li></ul></li></ul></li><li><label class='ee-shut'>2: Feature (Point, 1 property)<input type='checkbox' class='ee-toggle'></label><ul><li><span class='ee-k'>type:</span><span class='ee-v'>Feature</span></li><li><span class='ee-k'>id:</span><span class='ee-v'>2</span></li><li><label class='ee-shut'>geometry: Point (103.83, 1.33)<input type='checkbox' class='ee-toggle'></label><ul><li><span class='ee-k'>type:</span><span class='ee-v'>Point</span></li><li><label class='ee-shut'>coordinates: [103.83, 1.33]<input type='checkbox' class='ee-toggle'></label><ul><li><span class='ee-k'>0:</span><span class='ee-v'>103.83</span></li><li><span class='ee-k'>1:</span><span class='ee-v'>1.33</span></li></ul></li></ul></li><li><label class='ee-shut'>properties: Object (1 property)<input type='checkbox' class='ee-toggle'></label><ul><li><span class='ee-k'>city:</span><span class='ee-v'>Singapore</span></li></ul></li></ul></li></ul></li></ul></li></ul></div><script>function toggleHeader() {\n",
       "    const parent = this.parentElement;\n",
       "    parent.className = parent.className === \"ee-open\" ? \"ee-shut\" : \"ee-open\";\n",
       "}\n",
       "\n",
       "for (let c of document.getElementsByClassName(\"ee-toggle\")) {\n",
       "    c.onclick = toggleHeader;\n",
       "}</script></div>"
      ],
      "text/plain": [
       "<ee.featurecollection.FeatureCollection at 0x1cbbb45eca0>"
      ]
     },
     "execution_count": 8,
     "metadata": {},
     "output_type": "execute_result"
    }
   ],
   "source": [
    "cities = ee.FeatureCollection([\n",
    "    ee.Feature(ee.Geometry.Point(10.75, 59.91), {'city': 'Oslo'}),\n",
    "    ee.Feature(ee.Geometry.Point(-118.24, 34.05), {'city': 'Los Angeles'}),\n",
    "    ee.Feature(ee.Geometry.Point(103.83, 1.33), {'city': 'Singapore'}),\n",
    "])\n",
    "cities"
   ]
  },
  {
   "cell_type": "code",
   "execution_count": 9,
   "metadata": {},
   "outputs": [
    {
     "data": {
      "text/html": [
       "\n",
       "            <style>\n",
       "                .geemap-dark {\n",
       "                    --jp-widgets-color: white;\n",
       "                    --jp-widgets-label-color: white;\n",
       "                    --jp-ui-font-color1: white;\n",
       "                    --jp-layout-color2: #454545;\n",
       "                    background-color: #383838;\n",
       "                }\n",
       "\n",
       "                .geemap-dark .jupyter-button {\n",
       "                    --jp-layout-color3: #383838;\n",
       "                }\n",
       "\n",
       "                .geemap-colab {\n",
       "                    background-color: var(--colab-primary-surface-color, white);\n",
       "                }\n",
       "\n",
       "                .geemap-colab .jupyter-button {\n",
       "                    --jp-layout-color3: var(--colab-primary-surface-color, white);\n",
       "                }\n",
       "            </style>\n",
       "            "
      ],
      "text/plain": [
       "<IPython.core.display.HTML object>"
      ]
     },
     "metadata": {},
     "output_type": "display_data"
    },
    {
     "data": {
      "application/vnd.jupyter.widget-view+json": {
       "model_id": "9fb70c3547a0480d85224b74339942fe",
       "version_major": 2,
       "version_minor": 0
      },
      "text/plain": [
       "Map(center=[30, 0], controls=(WidgetControl(options=['position', 'transparent_bg'], widget=SearchDataGUI(child…"
      ]
     },
     "execution_count": 9,
     "metadata": {},
     "output_type": "execute_result"
    }
   ],
   "source": [
    "m.add_layer(cities, name='Cities')\n",
    "m"
   ]
  },
  {
   "cell_type": "code",
   "execution_count": 10,
   "metadata": {},
   "outputs": [
    {
     "data": {
      "text/html": [
       "\n",
       "            <style>\n",
       "                .geemap-dark {\n",
       "                    --jp-widgets-color: white;\n",
       "                    --jp-widgets-label-color: white;\n",
       "                    --jp-ui-font-color1: white;\n",
       "                    --jp-layout-color2: #454545;\n",
       "                    background-color: #383838;\n",
       "                }\n",
       "\n",
       "                .geemap-dark .jupyter-button {\n",
       "                    --jp-layout-color3: #383838;\n",
       "                }\n",
       "\n",
       "                .geemap-colab {\n",
       "                    background-color: var(--colab-primary-surface-color, white);\n",
       "                }\n",
       "\n",
       "                .geemap-colab .jupyter-button {\n",
       "                    --jp-layout-color3: var(--colab-primary-surface-color, white);\n",
       "                }\n",
       "            </style>\n",
       "            "
      ],
      "text/plain": [
       "<IPython.core.display.HTML object>"
      ]
     },
     "metadata": {},
     "output_type": "display_data"
    }
   ],
   "source": [
    "# %pip install -q --upgrade altair\n",
    "import altair as alt"
   ]
  },
  {
   "cell_type": "code",
   "execution_count": 11,
   "metadata": {},
   "outputs": [
    {
     "data": {
      "text/html": [
       "\n",
       "            <style>\n",
       "                .geemap-dark {\n",
       "                    --jp-widgets-color: white;\n",
       "                    --jp-widgets-label-color: white;\n",
       "                    --jp-ui-font-color1: white;\n",
       "                    --jp-layout-color2: #454545;\n",
       "                    background-color: #383838;\n",
       "                }\n",
       "\n",
       "                .geemap-dark .jupyter-button {\n",
       "                    --jp-layout-color3: #383838;\n",
       "                }\n",
       "\n",
       "                .geemap-colab {\n",
       "                    background-color: var(--colab-primary-surface-color, white);\n",
       "                }\n",
       "\n",
       "                .geemap-colab .jupyter-button {\n",
       "                    --jp-layout-color3: var(--colab-primary-surface-color, white);\n",
       "                }\n",
       "            </style>\n",
       "            "
      ],
      "text/plain": [
       "<IPython.core.display.HTML object>"
      ]
     },
     "metadata": {},
     "output_type": "display_data"
    },
    {
     "data": {
      "text/html": [
       "<div>\n",
       "<style scoped>\n",
       "    .dataframe tbody tr th:only-of-type {\n",
       "        vertical-align: middle;\n",
       "    }\n",
       "\n",
       "    .dataframe tbody tr th {\n",
       "        vertical-align: top;\n",
       "    }\n",
       "\n",
       "    .dataframe thead th {\n",
       "        text-align: right;\n",
       "    }\n",
       "</style>\n",
       "<table border=\"1\" class=\"dataframe\">\n",
       "  <thead>\n",
       "    <tr style=\"text-align: right;\">\n",
       "      <th></th>\n",
       "      <th>geo</th>\n",
       "      <th>city</th>\n",
       "      <th>dewpoint_temperature_2m</th>\n",
       "      <th>dewpoint_temperature_2m_max</th>\n",
       "      <th>dewpoint_temperature_2m_min</th>\n",
       "      <th>evaporation_from_bare_soil_max</th>\n",
       "      <th>evaporation_from_bare_soil_min</th>\n",
       "      <th>evaporation_from_bare_soil_sum</th>\n",
       "      <th>evaporation_from_open_water_surfaces_excluding_oceans_max</th>\n",
       "      <th>evaporation_from_open_water_surfaces_excluding_oceans_min</th>\n",
       "      <th>...</th>\n",
       "      <th>volumetric_soil_water_layer_1_min</th>\n",
       "      <th>volumetric_soil_water_layer_2</th>\n",
       "      <th>volumetric_soil_water_layer_2_max</th>\n",
       "      <th>volumetric_soil_water_layer_2_min</th>\n",
       "      <th>volumetric_soil_water_layer_3</th>\n",
       "      <th>volumetric_soil_water_layer_3_max</th>\n",
       "      <th>volumetric_soil_water_layer_3_min</th>\n",
       "      <th>volumetric_soil_water_layer_4</th>\n",
       "      <th>volumetric_soil_water_layer_4_max</th>\n",
       "      <th>volumetric_soil_water_layer_4_min</th>\n",
       "    </tr>\n",
       "  </thead>\n",
       "  <tbody>\n",
       "    <tr>\n",
       "      <th>0</th>\n",
       "      <td>{'type': 'Point', 'coordinates': [10.75, 59.91]}</td>\n",
       "      <td>Oslo</td>\n",
       "      <td>268.522069</td>\n",
       "      <td>277.052826</td>\n",
       "      <td>255.988235</td>\n",
       "      <td>2.328306e-10</td>\n",
       "      <td>-0.000028</td>\n",
       "      <td>-0.000109</td>\n",
       "      <td>6.047194e-07</td>\n",
       "      <td>-2.328306e-10</td>\n",
       "      <td>...</td>\n",
       "      <td>0.240875</td>\n",
       "      <td>0.277464</td>\n",
       "      <td>0.339737</td>\n",
       "      <td>0.242050</td>\n",
       "      <td>0.288395</td>\n",
       "      <td>0.312698</td>\n",
       "      <td>0.263550</td>\n",
       "      <td>0.283256</td>\n",
       "      <td>0.291718</td>\n",
       "      <td>0.269760</td>\n",
       "    </tr>\n",
       "    <tr>\n",
       "      <th>1</th>\n",
       "      <td>{'type': 'Point', 'coordinates': [-118.24, 34....</td>\n",
       "      <td>Los Angeles</td>\n",
       "      <td>279.018688</td>\n",
       "      <td>286.388687</td>\n",
       "      <td>265.190689</td>\n",
       "      <td>2.328306e-10</td>\n",
       "      <td>-0.000191</td>\n",
       "      <td>-0.016581</td>\n",
       "      <td>1.587765e-05</td>\n",
       "      <td>-2.093231e-04</td>\n",
       "      <td>...</td>\n",
       "      <td>0.293442</td>\n",
       "      <td>0.378105</td>\n",
       "      <td>0.438995</td>\n",
       "      <td>0.267899</td>\n",
       "      <td>0.338553</td>\n",
       "      <td>0.410660</td>\n",
       "      <td>0.196136</td>\n",
       "      <td>0.217798</td>\n",
       "      <td>0.233704</td>\n",
       "      <td>0.208649</td>\n",
       "    </tr>\n",
       "    <tr>\n",
       "      <th>2</th>\n",
       "      <td>{'type': 'Point', 'coordinates': [103.83, 1.33]}</td>\n",
       "      <td>Singapore</td>\n",
       "      <td>296.269420</td>\n",
       "      <td>298.315628</td>\n",
       "      <td>294.220779</td>\n",
       "      <td>0.000000e+00</td>\n",
       "      <td>-0.000365</td>\n",
       "      <td>-0.036704</td>\n",
       "      <td>1.164153e-10</td>\n",
       "      <td>-1.259167e-04</td>\n",
       "      <td>...</td>\n",
       "      <td>0.393356</td>\n",
       "      <td>0.436111</td>\n",
       "      <td>0.520004</td>\n",
       "      <td>0.405411</td>\n",
       "      <td>0.436325</td>\n",
       "      <td>0.519806</td>\n",
       "      <td>0.401047</td>\n",
       "      <td>0.496528</td>\n",
       "      <td>0.510345</td>\n",
       "      <td>0.489883</td>\n",
       "    </tr>\n",
       "  </tbody>\n",
       "</table>\n",
       "<p>3 rows × 152 columns</p>\n",
       "</div>"
      ],
      "text/plain": [
       "                                                 geo         city  \\\n",
       "0   {'type': 'Point', 'coordinates': [10.75, 59.91]}         Oslo   \n",
       "1  {'type': 'Point', 'coordinates': [-118.24, 34....  Los Angeles   \n",
       "2   {'type': 'Point', 'coordinates': [103.83, 1.33]}    Singapore   \n",
       "\n",
       "   dewpoint_temperature_2m  dewpoint_temperature_2m_max  \\\n",
       "0               268.522069                   277.052826   \n",
       "1               279.018688                   286.388687   \n",
       "2               296.269420                   298.315628   \n",
       "\n",
       "   dewpoint_temperature_2m_min  evaporation_from_bare_soil_max  \\\n",
       "0                   255.988235                    2.328306e-10   \n",
       "1                   265.190689                    2.328306e-10   \n",
       "2                   294.220779                    0.000000e+00   \n",
       "\n",
       "   evaporation_from_bare_soil_min  evaporation_from_bare_soil_sum  \\\n",
       "0                       -0.000028                       -0.000109   \n",
       "1                       -0.000191                       -0.016581   \n",
       "2                       -0.000365                       -0.036704   \n",
       "\n",
       "   evaporation_from_open_water_surfaces_excluding_oceans_max  \\\n",
       "0                                       6.047194e-07           \n",
       "1                                       1.587765e-05           \n",
       "2                                       1.164153e-10           \n",
       "\n",
       "   evaporation_from_open_water_surfaces_excluding_oceans_min  ...  \\\n",
       "0                                      -2.328306e-10          ...   \n",
       "1                                      -2.093231e-04          ...   \n",
       "2                                      -1.259167e-04          ...   \n",
       "\n",
       "   volumetric_soil_water_layer_1_min  volumetric_soil_water_layer_2  \\\n",
       "0                           0.240875                       0.277464   \n",
       "1                           0.293442                       0.378105   \n",
       "2                           0.393356                       0.436111   \n",
       "\n",
       "   volumetric_soil_water_layer_2_max  volumetric_soil_water_layer_2_min  \\\n",
       "0                           0.339737                           0.242050   \n",
       "1                           0.438995                           0.267899   \n",
       "2                           0.520004                           0.405411   \n",
       "\n",
       "   volumetric_soil_water_layer_3  volumetric_soil_water_layer_3_max  \\\n",
       "0                       0.288395                           0.312698   \n",
       "1                       0.338553                           0.410660   \n",
       "2                       0.436325                           0.519806   \n",
       "\n",
       "   volumetric_soil_water_layer_3_min  volumetric_soil_water_layer_4  \\\n",
       "0                           0.263550                       0.283256   \n",
       "1                           0.196136                       0.217798   \n",
       "2                           0.401047                       0.496528   \n",
       "\n",
       "   volumetric_soil_water_layer_4_max  volumetric_soil_water_layer_4_min  \n",
       "0                           0.291718                           0.269760  \n",
       "1                           0.233704                           0.208649  \n",
       "2                           0.510345                           0.489883  \n",
       "\n",
       "[3 rows x 152 columns]"
      ]
     },
     "execution_count": 11,
     "metadata": {},
     "output_type": "execute_result"
    }
   ],
   "source": [
    "city_climates = jan_2023_climate.reduceRegions(cities, ee.Reducer.first())\n",
    "\n",
    "city_climates_dataframe = ee.data.computeFeatures(\n",
    "    {'expression': city_climates, 'fileFormat': 'PANDAS_DATAFRAME'}\n",
    ")\n",
    "city_climates_dataframe"
   ]
  },
  {
   "cell_type": "code",
   "execution_count": 12,
   "metadata": {},
   "outputs": [
    {
     "data": {
      "text/html": [
       "\n",
       "            <style>\n",
       "                .geemap-dark {\n",
       "                    --jp-widgets-color: white;\n",
       "                    --jp-widgets-label-color: white;\n",
       "                    --jp-ui-font-color1: white;\n",
       "                    --jp-layout-color2: #454545;\n",
       "                    background-color: #383838;\n",
       "                }\n",
       "\n",
       "                .geemap-dark .jupyter-button {\n",
       "                    --jp-layout-color3: #383838;\n",
       "                }\n",
       "\n",
       "                .geemap-colab {\n",
       "                    background-color: var(--colab-primary-surface-color, white);\n",
       "                }\n",
       "\n",
       "                .geemap-colab .jupyter-button {\n",
       "                    --jp-layout-color3: var(--colab-primary-surface-color, white);\n",
       "                }\n",
       "            </style>\n",
       "            "
      ],
      "text/plain": [
       "<IPython.core.display.HTML object>"
      ]
     },
     "metadata": {},
     "output_type": "display_data"
    },
    {
     "data": {
      "text/html": [
       "\n",
       "<style>\n",
       "  #altair-viz-ea7a09489f364c1085be757d1333ef54.vega-embed {\n",
       "    width: 100%;\n",
       "    display: flex;\n",
       "  }\n",
       "\n",
       "  #altair-viz-ea7a09489f364c1085be757d1333ef54.vega-embed details,\n",
       "  #altair-viz-ea7a09489f364c1085be757d1333ef54.vega-embed details summary {\n",
       "    position: relative;\n",
       "  }\n",
       "</style>\n",
       "<div id=\"altair-viz-ea7a09489f364c1085be757d1333ef54\"></div>\n",
       "<script type=\"text/javascript\">\n",
       "  var VEGA_DEBUG = (typeof VEGA_DEBUG == \"undefined\") ? {} : VEGA_DEBUG;\n",
       "  (function(spec, embedOpt){\n",
       "    let outputDiv = document.currentScript.previousElementSibling;\n",
       "    if (outputDiv.id !== \"altair-viz-ea7a09489f364c1085be757d1333ef54\") {\n",
       "      outputDiv = document.getElementById(\"altair-viz-ea7a09489f364c1085be757d1333ef54\");\n",
       "    }\n",
       "    const paths = {\n",
       "      \"vega\": \"https://cdn.jsdelivr.net/npm/vega@5?noext\",\n",
       "      \"vega-lib\": \"https://cdn.jsdelivr.net/npm/vega-lib?noext\",\n",
       "      \"vega-lite\": \"https://cdn.jsdelivr.net/npm/vega-lite@5.20.1?noext\",\n",
       "      \"vega-embed\": \"https://cdn.jsdelivr.net/npm/vega-embed@6?noext\",\n",
       "    };\n",
       "\n",
       "    function maybeLoadScript(lib, version) {\n",
       "      var key = `${lib.replace(\"-\", \"\")}_version`;\n",
       "      return (VEGA_DEBUG[key] == version) ?\n",
       "        Promise.resolve(paths[lib]) :\n",
       "        new Promise(function(resolve, reject) {\n",
       "          var s = document.createElement('script');\n",
       "          document.getElementsByTagName(\"head\")[0].appendChild(s);\n",
       "          s.async = true;\n",
       "          s.onload = () => {\n",
       "            VEGA_DEBUG[key] = version;\n",
       "            return resolve(paths[lib]);\n",
       "          };\n",
       "          s.onerror = () => reject(`Error loading script: ${paths[lib]}`);\n",
       "          s.src = paths[lib];\n",
       "        });\n",
       "    }\n",
       "\n",
       "    function showError(err) {\n",
       "      outputDiv.innerHTML = `<div class=\"error\" style=\"color:red;\">${err}</div>`;\n",
       "      throw err;\n",
       "    }\n",
       "\n",
       "    function displayChart(vegaEmbed) {\n",
       "      vegaEmbed(outputDiv, spec, embedOpt)\n",
       "        .catch(err => showError(`Javascript Error: ${err.message}<br>This usually means there's a typo in your chart specification. See the javascript console for the full traceback.`));\n",
       "    }\n",
       "\n",
       "    if(typeof define === \"function\" && define.amd) {\n",
       "      requirejs.config({paths});\n",
       "      require([\"vega-embed\"], displayChart, err => showError(`Error loading script: ${err.message}`));\n",
       "    } else {\n",
       "      maybeLoadScript(\"vega\", \"5\")\n",
       "        .then(() => maybeLoadScript(\"vega-lite\", \"5.20.1\"))\n",
       "        .then(() => maybeLoadScript(\"vega-embed\", \"6\"))\n",
       "        .catch(showError)\n",
       "        .then(() => displayChart(vegaEmbed));\n",
       "    }\n",
       "  })({\"config\": {\"view\": {\"continuousWidth\": 300, \"continuousHeight\": 300}}, \"data\": {\"name\": \"data-4af1f2c89d40466fc3ccf4ee6e385bf9\"}, \"mark\": {\"type\": \"bar\", \"size\": 100}, \"encoding\": {\"tooltip\": [{\"field\": \"city\", \"title\": \"City\", \"type\": \"nominal\"}, {\"field\": \"temperature_2m\", \"title\": \"Temperature (K)\", \"type\": \"quantitative\"}], \"x\": {\"axis\": {\"labelAngle\": 0}, \"field\": \"city\", \"sort\": \"y\", \"title\": \"City\", \"type\": \"nominal\"}, \"y\": {\"field\": \"temperature_2m\", \"title\": \"Temperature (K)\", \"type\": \"quantitative\"}}, \"title\": \"January 2023 temperature for selected cities\", \"width\": 500, \"$schema\": \"https://vega.github.io/schema/vega-lite/v5.20.1.json\", \"datasets\": {\"data-4af1f2c89d40466fc3ccf4ee6e385bf9\": [{\"geo\": {\"type\": \"Point\", \"coordinates\": [10.75, 59.91]}, \"city\": \"Oslo\", \"dewpoint_temperature_2m\": 268.52206927473827, \"dewpoint_temperature_2m_max\": 277.0528259277344, \"dewpoint_temperature_2m_min\": 255.9882354736328, \"evaporation_from_bare_soil_max\": 2.3283064365386963e-10, \"evaporation_from_bare_soil_min\": -2.755550667643547e-05, \"evaporation_from_bare_soil_sum\": -0.00010912911966443062, \"evaporation_from_open_water_surfaces_excluding_oceans_max\": 6.047193892300129e-07, \"evaporation_from_open_water_surfaces_excluding_oceans_min\": -2.3283064365386963e-10, \"evaporation_from_open_water_surfaces_excluding_oceans_sum\": 9.0734101831913e-06, \"evaporation_from_the_top_of_canopy_max\": 2.621673047542572e-07, \"evaporation_from_the_top_of_canopy_min\": -6.047775968909264e-07, \"evaporation_from_the_top_of_canopy_sum\": -5.585141479969025e-06, \"evaporation_from_vegetation_transpiration_max\": 4.241708666086197e-06, \"evaporation_from_vegetation_transpiration_min\": -4.298053681850433e-06, \"evaporation_from_vegetation_transpiration_sum\": -3.8973987102508545e-05, \"forecast_albedo\": 0.5131687804836259, \"forecast_albedo_max\": 0.5765238925814629, \"forecast_albedo_min\": 0.44838697463274, \"lake_bottom_temperature\": 276.924072265625, \"lake_bottom_temperature_max\": 276.924072265625, \"lake_bottom_temperature_min\": 276.924072265625, \"lake_ice_depth\": 0.2713291645050049, \"lake_ice_depth_max\": 0.3345947265625, \"lake_ice_depth_min\": 0.2083740234375, \"lake_ice_temperature\": 269.6081848144531, \"lake_ice_temperature_max\": 273.151123046875, \"lake_ice_temperature_min\": 260.48040771484375, \"lake_mix_layer_depth\": 13.294921874999993, \"lake_mix_layer_depth_max\": 13.294921874999993, \"lake_mix_layer_depth_min\": 13.294921874999993, \"lake_mix_layer_temperature\": 273.149658203125, \"lake_mix_layer_temperature_max\": 273.149658203125, \"lake_mix_layer_temperature_min\": 273.149658203125, \"lake_shape_factor\": 0.6281813979148865, \"lake_shape_factor_max\": 0.6281813979148865, \"lake_shape_factor_min\": 0.6281813979148865, \"lake_total_layer_temperature\": 274.1674499511719, \"lake_total_layer_temperature_max\": 274.167724609375, \"lake_total_layer_temperature_min\": 274.167236328125, \"leaf_area_index_high_vegetation\": 3.519569807155158, \"leaf_area_index_high_vegetation_max\": 3.5660400390625, \"leaf_area_index_high_vegetation_min\": 3.4935302734375, \"leaf_area_index_low_vegetation\": 2.2727713636172715, \"leaf_area_index_low_vegetation_max\": 2.29443359375, \"leaf_area_index_low_vegetation_min\": 2.2603759765625, \"potential_evaporation_max\": 3.8860365748405457e-05, \"potential_evaporation_min\": -0.0004218742251396179, \"potential_evaporation_sum\": -0.009352579712867737, \"runoff_max\": 0.0001239478588104248, \"runoff_min\": 5.4717063903808594e-05, \"runoff_sum\": 0.07031873613595963, \"skin_reservoir_content\": 0.0004994114961034508, \"skin_reservoir_content_max\": 0.0005052685737609863, \"skin_reservoir_content_min\": 0.0004962086677551268, \"skin_temperature\": 267.971925961074, \"skin_temperature_max\": 276.15919494628906, \"skin_temperature_min\": 251.63772583007812, \"snow_albedo\": 0.7489844054304143, \"snow_albedo_max\": 0.8737825751304626, \"snow_albedo_min\": 0.6145357489585876, \"snow_cover\": 96.447265625, \"snow_cover_max\": 96.447265625, \"snow_cover_min\": 96.447265625, \"snow_density\": 193.30081849457116, \"snow_density_max\": 240.82029724121094, \"snow_density_min\": 152.79685974121094, \"snow_depth\": 0.39621529527889787, \"snow_depth_max\": 0.501953125, \"snow_depth_min\": 0.193359375, \"snow_depth_water_equivalent\": 0.07779052308810655, \"snow_depth_water_equivalent_max\": 0.10024547576904297, \"snow_depth_water_equivalent_min\": 0.03370189666748047, \"snow_evaporation_max\": 4.3257547076791525e-05, \"snow_evaporation_min\": -6.478698924183846e-05, \"snow_evaporation_sum\": 0.001028228085488081, \"snowfall_max\": 0.002250712364912033, \"snowfall_min\": -1.862645149230957e-09, \"snowfall_sum\": 0.10064822435379028, \"snowmelt_max\": 0.0007789786905050278, \"snowmelt_min\": -1.862645149230957e-09, \"snowmelt_sum\": 0.04142770543694496, \"soil_temperature_level_1\": 271.8883029978762, \"soil_temperature_level_1_max\": 272.2766418457031, \"soil_temperature_level_1_min\": 271.07078552246094, \"soil_temperature_level_2\": 272.0826032700077, \"soil_temperature_level_2_max\": 272.3786926269531, \"soil_temperature_level_2_min\": 271.6380157470703, \"soil_temperature_level_3\": 273.0860364155103, \"soil_temperature_level_3_max\": 273.1155090332031, \"soil_temperature_level_3_min\": 273.06739807128906, \"soil_temperature_level_4\": 276.155882230369, \"soil_temperature_level_4_max\": 277.6103515625, \"soil_temperature_level_4_min\": 275.04698181152344, \"sub_surface_runoff_max\": 0.00012056902050971985, \"sub_surface_runoff_min\": 5.470961332321167e-05, \"sub_surface_runoff_sum\": 0.06911787390708923, \"surface_latent_heat_flux_max\": 133301, \"surface_latent_heat_flux_min\": -192948, \"surface_latent_heat_flux_sum\": 4447814, \"surface_net_solar_radiation_max\": 364520, \"surface_net_solar_radiation_min\": 0, \"surface_net_solar_radiation_sum\": 20274236, \"surface_net_thermal_radiation_max\": 66226.0, \"surface_net_thermal_radiation_min\": -349835, \"surface_net_thermal_radiation_sum\": -63516228, \"surface_pressure\": 99083.17864268314, \"surface_pressure_max\": 102361.921875, \"surface_pressure_min\": 95796.171875, \"surface_runoff_max\": 3.273412585258484e-05, \"surface_runoff_min\": -7.450580596923828e-09, \"surface_runoff_sum\": 0.001200839877128601, \"surface_sensible_heat_flux_max\": 380425.75, \"surface_sensible_heat_flux_min\": -45000, \"surface_sensible_heat_flux_sum\": 42386164, \"surface_solar_radiation_downwards_max\": 664500, \"surface_solar_radiation_downwards_min\": -4, \"surface_solar_radiation_downwards_sum\": 40664338, \"surface_thermal_radiation_downwards_max\": 1195476.0625, \"surface_thermal_radiation_downwards_min\": 673868, \"surface_thermal_radiation_downwards_sum\": 720501492, \"temperature_2m\": 270.06185993071523, \"temperature_2m_max\": 277.265380859375, \"temperature_2m_min\": 258.20668029785156, \"temperature_of_snow_layer\": 268.0185716895647, \"temperature_of_snow_layer_max\": 273.1608123779297, \"temperature_of_snow_layer_min\": 252.98390197753906, \"total_evaporation_max\": 4.708976484835148e-05, \"total_evaporation_min\": -6.807595491409302e-05, \"total_evaporation_sum\": 0.0016465559601783752, \"total_precipitation_max\": 0.0023619309067726135, \"total_precipitation_min\": -1.4901161193847656e-08, \"total_precipitation_sum\": 0.1444995436225618, \"u_component_of_wind_10m\": -0.10796021646068941, \"u_component_of_wind_10m_max\": 3.4381256103515625, \"u_component_of_wind_10m_min\": -4.102163314819336, \"v_component_of_wind_10m\": -0.03605429075097525, \"v_component_of_wind_10m_max\": 4.08642578125, \"v_component_of_wind_10m_min\": -3.438608169555664, \"volumetric_soil_water_layer_1\": 0.2788992030646211, \"volumetric_soil_water_layer_1_max\": 0.374755859375, \"volumetric_soil_water_layer_1_min\": 0.240875244140625, \"volumetric_soil_water_layer_2\": 0.27746417958249325, \"volumetric_soil_water_layer_2_max\": 0.3397369384765625, \"volumetric_soil_water_layer_2_min\": 0.2420501708984375, \"volumetric_soil_water_layer_3\": 0.2883952151062668, \"volumetric_soil_water_layer_3_max\": 0.3126983642578125, \"volumetric_soil_water_layer_3_min\": 0.2635498046875, \"volumetric_soil_water_layer_4\": 0.2832560590518418, \"volumetric_soil_water_layer_4_max\": 0.291717529296875, \"volumetric_soil_water_layer_4_min\": 0.2697601318359375}, {\"geo\": {\"type\": \"Point\", \"coordinates\": [-118.24, 34.05]}, \"city\": \"Los Angeles\", \"dewpoint_temperature_2m\": 279.01868805834044, \"dewpoint_temperature_2m_max\": 286.38868713378906, \"dewpoint_temperature_2m_min\": 265.19068908691406, \"evaporation_from_bare_soil_max\": 2.3283064365386963e-10, \"evaporation_from_bare_soil_min\": -0.0001909397542476654, \"evaporation_from_bare_soil_sum\": -0.016580758150666952, \"evaporation_from_open_water_surfaces_excluding_oceans_max\": 1.5877652913331985e-05, \"evaporation_from_open_water_surfaces_excluding_oceans_min\": -0.00020932313054800034, \"evaporation_from_open_water_surfaces_excluding_oceans_sum\": -0.017593002412468195, \"evaporation_from_the_top_of_canopy_max\": 6.6356733441352844e-06, \"evaporation_from_the_top_of_canopy_min\": -0.00021615531295537949, \"evaporation_from_the_top_of_canopy_sum\": -0.009451980702579021, \"evaporation_from_vegetation_transpiration_max\": 6.05359673500061e-08, \"evaporation_from_vegetation_transpiration_min\": -1.9045546650886536e-07, \"evaporation_from_vegetation_transpiration_sum\": -2.903677523136139e-05, \"forecast_albedo\": 0.13125958438882585, \"forecast_albedo_max\": 0.134537223726511, \"forecast_albedo_min\": 0.12893499061465263, \"lake_bottom_temperature\": 282.8968138335853, \"lake_bottom_temperature_max\": 283.084716796875, \"lake_bottom_temperature_min\": 282.591552734375, \"lake_ice_depth\": -1.1923312221584362e-18, \"lake_ice_depth_max\": 0.0, \"lake_ice_depth_min\": -6.938894731087841e-18, \"lake_ice_temperature\": 273.1499938964844, \"lake_ice_temperature_max\": 273.15179443359375, \"lake_ice_temperature_min\": 273.1485595703125, \"lake_mix_layer_depth\": 13.185626942624326, \"lake_mix_layer_depth_max\": 16.592773437499993, \"lake_mix_layer_depth_min\": 5.197265624999993, \"lake_mix_layer_temperature\": 283.41127457157256, \"lake_mix_layer_temperature_max\": 284.064697265625, \"lake_mix_layer_temperature_min\": 282.592041015625, \"lake_shape_factor\": 0.7024902701377869, \"lake_shape_factor_max\": 0.782981812953949, \"lake_shape_factor_min\": 0.6467666029930115, \"lake_total_layer_temperature\": 283.29595947265625, \"lake_total_layer_temperature_max\": 283.734619140625, \"lake_total_layer_temperature_min\": 282.592041015625, \"leaf_area_index_high_vegetation\": 4.762919108072917, \"leaf_area_index_high_vegetation_max\": 4.7784423828125, \"leaf_area_index_high_vegetation_min\": 4.7515869140625, \"leaf_area_index_low_vegetation\": 0.9817178377541163, \"leaf_area_index_low_vegetation_max\": 1.0081787109375, \"leaf_area_index_low_vegetation_min\": 0.9619140625, \"potential_evaporation_max\": 1.8261373043060303e-05, \"potential_evaporation_min\": -0.0013713464140892029, \"potential_evaporation_sum\": -0.10682924091815948, \"runoff_max\": 0.004036754369735718, \"runoff_min\": 7.450580596923828e-08, \"runoff_sum\": 0.053732894361019135, \"skin_reservoir_content\": 9.62117907180581e-05, \"skin_reservoir_content_max\": 0.0003480017185211181, \"skin_reservoir_content_min\": -1.1102237235927741e-19, \"skin_temperature\": 282.704584101195, \"skin_temperature_max\": 295.75579833984375, \"skin_temperature_min\": 271.2447052001953, \"snow_albedo\": 0.8799213459414821, \"snow_albedo_max\": 0.8800005316734314, \"snow_albedo_min\": 0.8779482245445251, \"snow_cover\": 0.0, \"snow_cover_max\": 0.0, \"snow_cover_min\": 0.0, \"snow_density\": 100.02199414981308, \"snow_density_max\": 100.88279724121094, \"snow_density_min\": 99.99998474121094, \"snow_depth\": -7.3453647229951e-24, \"snow_depth_max\": -7.3453647229951e-24, \"snow_depth_min\": -7.3453647229951e-24, \"snow_depth_water_equivalent\": -7.345364920210326e-25, \"snow_depth_water_equivalent_max\": -7.345364920210326e-25, \"snow_depth_water_equivalent_min\": -7.345364920210326e-25, \"snow_evaporation_max\": 2.3283064365386963e-10, \"snow_evaporation_min\": -4.656612873077393e-10, \"snow_evaporation_sum\": 1.3969838619232178e-09, \"snowfall_max\": 0.0, \"snowfall_min\": 0.0, \"snowfall_sum\": 0.0, \"snowmelt_max\": 3.725290298461914e-09, \"snowmelt_min\": -1.862645149230957e-09, \"snowmelt_sum\": 5.587935447692871e-09, \"soil_temperature_level_1\": 283.5517932112499, \"soil_temperature_level_1_max\": 290.4306335449219, \"soil_temperature_level_1_min\": 275.99903869628906, \"soil_temperature_level_2\": 284.252598649712, \"soil_temperature_level_2_max\": 286.8033142089844, \"soil_temperature_level_2_min\": 280.84153747558594, \"soil_temperature_level_3\": 286.4417335551272, \"soil_temperature_level_3_max\": 287.9323272705078, \"soil_temperature_level_3_min\": 285.0854797363281, \"soil_temperature_level_4\": 291.6242279544953, \"soil_temperature_level_4_max\": 293.0927734375, \"soil_temperature_level_4_min\": 290.05479431152344, \"sub_surface_runoff_max\": 0.001806061714887619, \"sub_surface_runoff_min\": 8.195638656616211e-08, \"sub_surface_runoff_sum\": 0.015724867582321167, \"surface_latent_heat_flux_max\": 45598, \"surface_latent_heat_flux_min\": -997858, \"surface_latent_heat_flux_sum\": -109171714, \"surface_net_solar_radiation_max\": 2153758, \"surface_net_solar_radiation_min\": -2, \"surface_net_solar_radiation_sum\": 264381196, \"surface_net_thermal_radiation_max\": 1747.25, \"surface_net_thermal_radiation_min\": -563037, \"surface_net_thermal_radiation_sum\": -171308622, \"surface_pressure\": 99587.92864268314, \"surface_pressure_max\": 100643.828125, \"surface_pressure_min\": 98237.64453125, \"surface_runoff_max\": 0.0040366798639297485, \"surface_runoff_min\": -7.450580596923828e-09, \"surface_runoff_sum\": 0.03800790756940842, \"surface_sensible_heat_flux_max\": 169199.0, \"surface_sensible_heat_flux_min\": -539220, \"surface_sensible_heat_flux_sum\": -3597008, \"surface_solar_radiation_downwards_max\": 2488556, \"surface_solar_radiation_downwards_min\": -4, \"surface_solar_radiation_downwards_sum\": 304494394, \"surface_thermal_radiation_downwards_max\": 1356104.0, \"surface_thermal_radiation_downwards_min\": 819685, \"surface_thermal_radiation_downwards_sum\": 795289242, \"temperature_2m\": 283.1773699483564, \"temperature_2m_max\": 293.0741271972656, \"temperature_2m_min\": 275.1559753417969, \"temperature_of_snow_layer\": 273.1397113800049, \"temperature_of_snow_layer_max\": 273.1609649658203, \"temperature_of_snow_layer_min\": 270.79217529296875, \"total_evaporation_max\": 1.823343336582184e-05, \"total_evaporation_min\": -0.000399014912545681, \"total_evaporation_sum\": -0.04365471098572016, \"total_precipitation_max\": 0.007485494017601013, \"total_precipitation_min\": -1.966191121027805e-08, \"total_precipitation_sum\": 0.2793816360984529, \"u_component_of_wind_10m\": -0.5162860680651921, \"u_component_of_wind_10m_max\": 3.845865249633789, \"u_component_of_wind_10m_min\": -4.187290191650391, \"v_component_of_wind_10m\": -0.4591788707240935, \"v_component_of_wind_10m_max\": 5.099273681640625, \"v_component_of_wind_10m_min\": -3.253223419189453, \"volumetric_soil_water_layer_1\": 0.3711797857797274, \"volumetric_soil_water_layer_1_max\": 0.438995361328125, \"volumetric_soil_water_layer_1_min\": 0.2934417724609375, \"volumetric_soil_water_layer_2\": 0.37810536866546957, \"volumetric_soil_water_layer_2_max\": 0.438995361328125, \"volumetric_soil_water_layer_2_min\": 0.2678985595703125, \"volumetric_soil_water_layer_3\": 0.3385532953405893, \"volumetric_soil_water_layer_3_max\": 0.4106597900390625, \"volumetric_soil_water_layer_3_min\": 0.196136474609375, \"volumetric_soil_water_layer_4\": 0.2177981920139764, \"volumetric_soil_water_layer_4_max\": 0.23370361328125, \"volumetric_soil_water_layer_4_min\": 0.208648681640625}, {\"geo\": {\"type\": \"Point\", \"coordinates\": [103.83, 1.33]}, \"city\": \"Singapore\", \"dewpoint_temperature_2m\": 296.26942048021544, \"dewpoint_temperature_2m_max\": 298.3156280517578, \"dewpoint_temperature_2m_min\": 294.2207794189453, \"evaporation_from_bare_soil_max\": 0.0, \"evaporation_from_bare_soil_min\": -0.00036452291533350945, \"evaporation_from_bare_soil_sum\": -0.03670353442430496, \"evaporation_from_open_water_surfaces_excluding_oceans_max\": 1.1641532182693481e-10, \"evaporation_from_open_water_surfaces_excluding_oceans_min\": -0.00012591667473316193, \"evaporation_from_open_water_surfaces_excluding_oceans_sum\": -0.015216263011097908, \"evaporation_from_the_top_of_canopy_max\": 3.312714397907257e-06, \"evaporation_from_the_top_of_canopy_min\": -0.0002543183509260416, \"evaporation_from_the_top_of_canopy_sum\": -0.03170015662908554, \"evaporation_from_vegetation_transpiration_max\": -1.7354032024741173e-05, \"evaporation_from_vegetation_transpiration_min\": -0.0001768297515809536, \"evaporation_from_vegetation_transpiration_sum\": -0.051560656167566776, \"forecast_albedo\": 0.09954127902665766, \"forecast_albedo_max\": 0.1023564375936985, \"forecast_albedo_min\": 0.09513677284121513, \"lake_bottom_temperature\": 299.1199504893313, \"lake_bottom_temperature_max\": 302.018798828125, \"lake_bottom_temperature_min\": 296.597900390625, \"lake_ice_depth\": -1.1923312221584362e-18, \"lake_ice_depth_max\": 0.0, \"lake_ice_depth_min\": -6.938894731087841e-18, \"lake_ice_temperature\": 273.1499938964844, \"lake_ice_temperature_max\": 273.15179443359375, \"lake_ice_temperature_min\": 273.1485595703125, \"lake_mix_layer_depth\": 1.982698830225134, \"lake_mix_layer_depth_max\": 1.999999999999993, \"lake_mix_layer_depth_min\": 1.202148437499993, \"lake_mix_layer_temperature\": 299.1583685105847, \"lake_mix_layer_temperature_max\": 302.055908203125, \"lake_mix_layer_temperature_min\": 296.597900390625, \"lake_shape_factor\": 0.6500265598297119, \"lake_shape_factor_max\": 0.654258668422699, \"lake_shape_factor_min\": 0.648429811000824, \"lake_total_layer_temperature\": 299.1514587402344, \"lake_total_layer_temperature_max\": 302.051025390625, \"lake_total_layer_temperature_min\": 296.597900390625, \"leaf_area_index_high_vegetation\": 2.206787109375, \"leaf_area_index_high_vegetation_max\": 2.206787109375, \"leaf_area_index_high_vegetation_min\": 2.206787109375, \"leaf_area_index_low_vegetation\": 2.5027579030682965, \"leaf_area_index_low_vegetation_max\": 2.5107421875, \"leaf_area_index_low_vegetation_min\": 2.4766845703125, \"potential_evaporation_max\": -3.0316412448883057e-05, \"potential_evaporation_min\": -0.0008398927748203278, \"potential_evaporation_sum\": -0.16325743496418, \"runoff_max\": 0.0041031017899513245, \"runoff_min\": 4.9620866775512695e-05, \"runoff_sum\": 0.10224122554063797, \"skin_reservoir_content\": 0.0001953199345578429, \"skin_reservoir_content_max\": 0.00044971704483032227, \"skin_reservoir_content_min\": -5.551121202903285e-20, \"skin_temperature\": 299.18454094343286, \"skin_temperature_max\": 305.2832336425781, \"skin_temperature_min\": 295.9855041503906, \"snow_albedo\": 0.8800005316734314, \"snow_albedo_max\": 0.8800005316734314, \"snow_albedo_min\": 0.8800005316734314, \"snow_cover\": 0.0, \"snow_cover_max\": 0.0, \"snow_cover_min\": 0.0, \"snow_density\": 99.99998474121094, \"snow_density_max\": 99.99998474121094, \"snow_density_min\": 99.99998474121094, \"snow_depth\": -7.3453647229951e-24, \"snow_depth_max\": -7.3453647229951e-24, \"snow_depth_min\": -7.3453647229951e-24, \"snow_depth_water_equivalent\": -7.345364920210326e-25, \"snow_depth_water_equivalent_max\": -7.345364920210326e-25, \"snow_depth_water_equivalent_min\": -7.345364920210326e-25, \"snow_evaporation_max\": 2.3283064365386963e-10, \"snow_evaporation_min\": -4.656612873077393e-10, \"snow_evaporation_sum\": 1.3969838619232178e-09, \"snowfall_max\": 0.0, \"snowfall_min\": 0.0, \"snowfall_sum\": 0.0, \"snowmelt_max\": 0.0, \"snowmelt_min\": 0.0, \"snowmelt_sum\": 0.0, \"soil_temperature_level_1\": 299.92749413110874, \"soil_temperature_level_1_max\": 305.2218322753906, \"soil_temperature_level_1_min\": 296.9292297363281, \"soil_temperature_level_2\": 300.071693071755, \"soil_temperature_level_2_max\": 301.7578430175781, \"soil_temperature_level_2_min\": 298.03929138183594, \"soil_temperature_level_3\": 300.3992215843611, \"soil_temperature_level_3_max\": 300.79412841796875, \"soil_temperature_level_3_min\": 299.41737365722656, \"soil_temperature_level_4\": 300.6711449571835, \"soil_temperature_level_4_max\": 300.7197265625, \"soil_temperature_level_4_min\": 300.57237243652344, \"sub_surface_runoff_max\": 0.0039744265377521515, \"sub_surface_runoff_min\": 4.843622446060181e-05, \"sub_surface_runoff_sum\": 0.08585687726736069, \"surface_latent_heat_flux_max\": -75442, \"surface_latent_heat_flux_min\": -1623750, \"surface_latent_heat_flux_sum\": -338059676, \"surface_net_solar_radiation_max\": 2795282, \"surface_net_solar_radiation_min\": 0, \"surface_net_solar_radiation_sum\": 424085512, \"surface_net_thermal_radiation_max\": -23692.0, \"surface_net_thermal_radiation_min\": -263595, \"surface_net_thermal_radiation_sum\": -88998122, \"surface_pressure\": 100868.65982547883, \"surface_pressure_max\": 101265.328125, \"surface_pressure_min\": 100410.76953125, \"surface_runoff_max\": 0.002409212291240692, \"surface_runoff_min\": -7.450580596923828e-09, \"surface_runoff_sum\": 0.016384392976760864, \"surface_sensible_heat_flux_max\": 279978.5, \"surface_sensible_heat_flux_min\": -424939, \"surface_sensible_heat_flux_sum\": -3513128, \"surface_solar_radiation_downwards_max\": 3091420, \"surface_solar_radiation_downwards_min\": -2, \"surface_solar_radiation_downwards_sum\": 470755808, \"surface_thermal_radiation_downwards_max\": 1589305.5, \"surface_thermal_radiation_downwards_min\": 1446055, \"surface_thermal_radiation_downwards_sum\": 1126030224, \"temperature_2m\": 298.9829920081682, \"temperature_2m_max\": 302.4864959716797, \"temperature_2m_min\": 296.9563293457031, \"temperature_of_snow_layer\": 273.15998949030393, \"temperature_of_snow_layer_max\": 273.1609649658203, \"temperature_of_snow_layer_min\": 273.1590576171875, \"total_evaporation_max\": -3.016740083694458e-05, \"total_evaporation_min\": -0.0006492920219898224, \"total_evaporation_sum\": -0.1351806167513132, \"total_precipitation_max\": 0.0048408955335617065, \"total_precipitation_min\": -2.9802322387695312e-08, \"total_precipitation_sum\": 0.26069261463029036, \"u_component_of_wind_10m\": 0.18094871121068154, \"u_component_of_wind_10m_max\": 5.2592315673828125, \"u_component_of_wind_10m_min\": -4.3271942138671875, \"v_component_of_wind_10m\": -3.8938312197244294, \"v_component_of_wind_10m_max\": 2.859774589538574, \"v_component_of_wind_10m_min\": -9.007156372070312, \"volumetric_soil_water_layer_1\": 0.44788083722514493, \"volumetric_soil_water_layer_1_max\": 0.5200042724609375, \"volumetric_soil_water_layer_1_min\": 0.3933563232421875, \"volumetric_soil_water_layer_2\": 0.43611097848543556, \"volumetric_soil_water_layer_2_max\": 0.5200042724609375, \"volumetric_soil_water_layer_2_min\": 0.4054107666015625, \"volumetric_soil_water_layer_3\": 0.43632542189731394, \"volumetric_soil_water_layer_3_max\": 0.519805908203125, \"volumetric_soil_water_layer_3_min\": 0.4010467529296875, \"volumetric_soil_water_layer_4\": 0.4965278666506531, \"volumetric_soil_water_layer_4_max\": 0.510345458984375, \"volumetric_soil_water_layer_4_min\": 0.4898834228515625}]}}, {\"mode\": \"vega-lite\"});\n",
       "</script>"
      ],
      "text/plain": [
       "alt.Chart(...)"
      ]
     },
     "execution_count": 12,
     "metadata": {},
     "output_type": "execute_result"
    }
   ],
   "source": [
    "alt.Chart(city_climates_dataframe).mark_bar(size=100).encode(\n",
    "    alt.X('city:N', sort='y', axis=alt.Axis(labelAngle=0), title='City'),\n",
    "    alt.Y('temperature_2m:Q', title='Temperature (K)'),\n",
    "    tooltip=[\n",
    "        alt.Tooltip('city:N', title='City'),\n",
    "        alt.Tooltip('temperature_2m:Q', title='Temperature (K)'),\n",
    "    ],\n",
    ").properties(title='January 2023 temperature for selected cities', width=500)"
   ]
  }
 ],
 "metadata": {
  "kernelspec": {
   "display_name": ".conda",
   "language": "python",
   "name": "python3"
  },
  "language_info": {
   "codemirror_mode": {
    "name": "ipython",
    "version": 3
   },
   "file_extension": ".py",
   "mimetype": "text/x-python",
   "name": "python",
   "nbconvert_exporter": "python",
   "pygments_lexer": "ipython3",
   "version": "3.9.20"
  }
 },
 "nbformat": 4,
 "nbformat_minor": 2
}
