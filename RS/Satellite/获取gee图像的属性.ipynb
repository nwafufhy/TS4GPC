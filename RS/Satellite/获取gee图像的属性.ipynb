{
 "cells": [
  {
   "cell_type": "code",
   "execution_count": null,
   "metadata": {},
   "outputs": [],
   "source": [
    "\n",
    "# 获取所有元数据属性的列表。\n",
    "properties = dataset.propertyNames()\n",
    "print('Metadata properties: ', properties.getInfo())"
   ]
  },
  {
   "cell_type": "code",
   "execution_count": null,
   "metadata": {},
   "outputs": [],
   "source": [
    "# Get the number of images.\n",
    "count = dataset.size()\n",
    "display('Count:', count)"
   ]
  },
  {
   "cell_type": "code",
   "execution_count": null,
   "metadata": {},
   "outputs": [],
   "source": [
    "# Get the date range of images in the collection.\n",
    "range = dataset.reduceColumns(ee.Reducer.minMax(), ['system:time_start'])\n",
    "display('Date range:', ee.Date(range.get('min')), ee.Date(range.get('max')))"
   ]
  },
  {
   "cell_type": "code",
   "execution_count": null,
   "metadata": {},
   "outputs": [],
   "source": [
    "## 获取时间戳并将其转换为日期。\n",
    "# 只能对单张图片使用\n",
    "#获取系统时间\n",
    "date = ee.Date(dataset.get('system:time_start'))\n",
    "print('Timestamp: ', date.getInfo())\n",
    "#以以下的时间格式来获取时间信息\n",
    "date2 = date.format('YYYY-MM-dd')\n",
    "print('Timestamp: ', date2.getInfo())"
   ]
  }
 ],
 "metadata": {
  "language_info": {
   "name": "python"
  }
 },
 "nbformat": 4,
 "nbformat_minor": 2
}
