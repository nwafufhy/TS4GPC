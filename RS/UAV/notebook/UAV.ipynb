{
 "cells": [
  {
   "cell_type": "markdown",
   "metadata": {},
   "source": [
    "## 检查原始光谱图像数据\n",
    "\n",
    "### 1. 数据位置设置\n",
    "- 指定原始光谱图像数据的根目录路径\n",
    "- 确认数据文件的组织结构\n",
    "\n",
    "### 2. 数据质量检查\n",
    "- 使用专业软件工具(QGIS/ENVI等)进行数据可视化\n",
    "- 检查项目：\n",
    "  - 图像完整性\n",
    "  - 数据异常值\n",
    "  - 掩膜数据匹配度\n",
    "- 记录发现的问题及解决方案\n",
    "\n",
    "### 3. 数据信息统计\n",
    "#### 基本信息\n",
    "- 时间序列总数: _____\n",
    "- 光谱波段总数: _____\n",
    "\n",
    "#### 详细信息表\n",
    "| 获取时间 | 波段信息 | 空间分辨率 | 掩膜状态 | 有效像素数 | 数据格式 | 备注 |\n",
    "|---------|----------|------------|----------|------------|----------|------|\n",
    "|         |          |            |          |            |          |      |\n",
    "\n",
    "#### 数据质量评估\n",
    "- 数据完整性: ___%\n",
    "- 数据有效性: ___%\n",
    "- 主要问题及建议: _____\n"
   ]
  },
  {
   "cell_type": "code",
   "execution_count": null,
   "metadata": {},
   "outputs": [],
   "source": [
    "# 添加项目根目录到Python路径\n",
    "sys.path.append(r\"D:\\work\\xnpanV2\\personal_space\\program\\TS4GPC\")\n",
    "from RS.UAV.config import settings\n",
    "from RS.UAV.core.data_loader import UAVDataLoader\n",
    "\n",
    "# 初始化项目配置\n",
    "\n",
    "# # 初始化数据加载器\n",
    "# data_loader = UAVDataLoader()"
   ]
  }
 ],
 "metadata": {
  "kernelspec": {
   "display_name": "base",
   "language": "python",
   "name": "python3"
  },
  "language_info": {
   "name": "python",
   "version": "3.12.3"
  }
 },
 "nbformat": 4,
 "nbformat_minor": 2
}
