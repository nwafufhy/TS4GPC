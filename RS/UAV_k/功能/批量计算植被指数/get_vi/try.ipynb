{
 "cells": [
  {
   "cell_type": "code",
   "execution_count": 16,
   "metadata": {},
   "outputs": [
    {
     "name": "stdout",
     "output_type": "stream",
     "text": [
      "D:\\work\\官村无人机影像\\关村0718\\0718划材料.shp\n",
      "D:\\work\\官村无人机影像\\关村0823\\0823划材料(2).shp\n",
      "D:\\work\\官村无人机影像\\关村240620大图\\0620划材料(2).shp\n",
      "D:\\work\\官村无人机影像\\关村240702\\0702划材料.shp\n",
      "D:\\work\\官村无人机影像\\关村240725\\0725划材料(2).shp\n",
      "D:\\work\\官村无人机影像\\关村240731\\0731划材料(2).shp\n",
      "D:\\work\\官村无人机影像\\关村240813\\0813划材料(2).shp\n",
      "D:\\work\\官村无人机影像\\关村240831\\0831划材料(2).shp\n"
     ]
    },
    {
     "data": {
      "text/plain": [
       "8"
      ]
     },
     "execution_count": 16,
     "metadata": {},
     "output_type": "execute_result"
    }
   ],
   "source": [
    "import os\n",
    " \n",
    "def get_shp_files(folder_path):\n",
    "    shp_files = []\n",
    "    for root, dirs, files in os.walk(folder_path):\n",
    "        for file in files:\n",
    "            if file.endswith('.shp'):\n",
    "                shp_files.append(os.path.join(root, file))\n",
    "    return shp_files\n",
    " \n",
    "# 示例使用\n",
    "folder_path = 'D:\\work\\官村无人机影像'\n",
    "shp_files = get_shp_files(folder_path)\n",
    "for path in shp_files:\n",
    "    print(path)\n",
    "len(shp_files)"
   ]
  },
  {
   "cell_type": "code",
   "execution_count": 15,
   "metadata": {},
   "outputs": [
    {
     "name": "stdout",
     "output_type": "stream",
     "text": [
      "D:\\work\\官村无人机影像\\关村0718\\正射影像镶嵌图.data.tif\n",
      "D:\\work\\官村无人机影像\\关村0823\\正射影像镶嵌图.data.tif\n",
      "D:\\work\\官村无人机影像\\关村240620大图\\正射影像镶嵌图.data.tif\n",
      "D:\\work\\官村无人机影像\\关村240702\\正射影像镶嵌图.data.tif\n",
      "D:\\work\\官村无人机影像\\关村240725\\正射影像镶嵌图.data.tif\n",
      "D:\\work\\官村无人机影像\\关村240731\\正射影像镶嵌图.data.tif\n",
      "D:\\work\\官村无人机影像\\关村240813\\正射影像镶嵌图.data.tif\n",
      "D:\\work\\官村无人机影像\\关村240831\\正射影像镶嵌图.data.tif\n"
     ]
    },
    {
     "data": {
      "text/plain": [
       "8"
      ]
     },
     "execution_count": 15,
     "metadata": {},
     "output_type": "execute_result"
    }
   ],
   "source": [
    "import os\n",
    " \n",
    "def find_tif_files_with_name_containing(folder_path, search_string):\n",
    "    matching_files = []\n",
    "    for root, dirs, files in os.walk(folder_path):\n",
    "        for file in files:\n",
    "            if file.endswith('.tif') and search_string in file[:-4]:  # 去掉.tif扩展名后检查\n",
    "                matching_files.append(os.path.join(root, file))\n",
    "    return matching_files\n",
    " \n",
    "# 示例使用\n",
    "folder_path = 'D:\\work\\官村无人机影像'  # 替换为你的文件夹路径\n",
    "search_string = '正射影像镶嵌图'  # 只搜索文件名中的这一部分\n",
    "matching_files = find_tif_files_with_name_containing(folder_path, search_string)\n",
    "for path in matching_files:\n",
    "    print(path)\n",
    "\n",
    "len(matching_files)"
   ]
  },
  {
   "cell_type": "code",
   "execution_count": 18,
   "metadata": {},
   "outputs": [
    {
     "name": "stdout",
     "output_type": "stream",
     "text": [
      "D:\\work\\官村无人机影像\\关村0718\\0718划材料.shp D:\\work\\官村无人机影像\\关村0718\\正射影像镶嵌图.data.tif D:\\work\\官村无人机影像\\关村0718\n",
      "D:\\work\\官村无人机影像\\关村0823\\0823划材料(2).shp D:\\work\\官村无人机影像\\关村0823\\正射影像镶嵌图.data.tif D:\\work\\官村无人机影像\\关村0823\n",
      "D:\\work\\官村无人机影像\\关村240620大图\\0620划材料(2).shp D:\\work\\官村无人机影像\\关村240620大图\\正射影像镶嵌图.data.tif D:\\work\\官村无人机影像\\关村240620大图\n",
      "D:\\work\\官村无人机影像\\关村240702\\0702划材料.shp D:\\work\\官村无人机影像\\关村240702\\正射影像镶嵌图.data.tif D:\\work\\官村无人机影像\\关村240702\n",
      "D:\\work\\官村无人机影像\\关村240725\\0725划材料(2).shp D:\\work\\官村无人机影像\\关村240725\\正射影像镶嵌图.data.tif D:\\work\\官村无人机影像\\关村240725\n",
      "D:\\work\\官村无人机影像\\关村240731\\0731划材料(2).shp D:\\work\\官村无人机影像\\关村240731\\正射影像镶嵌图.data.tif D:\\work\\官村无人机影像\\关村240731\n",
      "D:\\work\\官村无人机影像\\关村240813\\0813划材料(2).shp D:\\work\\官村无人机影像\\关村240813\\正射影像镶嵌图.data.tif D:\\work\\官村无人机影像\\关村240813\n",
      "D:\\work\\官村无人机影像\\关村240831\\0831划材料(2).shp D:\\work\\官村无人机影像\\关村240831\\正射影像镶嵌图.data.tif D:\\work\\官村无人机影像\\关村240831\n"
     ]
    }
   ],
   "source": [
    "for d in range(len(shp_files)):\n",
    "    # 获取地址\n",
    "    polygon_file_path = shp_files[d]\n",
    "    raster_folder_path = matching_files[d]\n",
    "    folder_path = os.path.dirname(polygon_file_path)\n",
    "    print(polygon_file_path,raster_folder_path,folder_path)"
   ]
  },
  {
   "cell_type": "code",
   "execution_count": 24,
   "metadata": {},
   "outputs": [],
   "source": [
    "# 尝试通过读取表格来获得数据，测试能否对NULL进行计算\n",
    "import pandas as pd\n",
    "import calculate_vegetation_indices\n",
    "df = pd.read_csv(r'D:\\work\\官村无人机影像\\关村240702\\multibands.csv')\n",
    "B,G,R,RE,NIR = df.iloc[:,1],df.iloc[:,2],df.iloc[:,3],df.iloc[:,4],df.iloc[:,5]\n",
    "dir_vi = calculate_vegetation_indices.calculate_vegetation_indices(R, G, B, RE, NIR)\n",
    "df_vi = pd.DataFrame(dir_vi)\n",
    "df_vi.to_csv(f'{folder_path}\\VI.csv', index=False)"
   ]
  },
  {
   "cell_type": "code",
   "execution_count": 25,
   "metadata": {},
   "outputs": [
    {
     "name": "stdout",
     "output_type": "stream",
     "text": [
      "文件复制完成！\n"
     ]
    }
   ],
   "source": [
    "## 复制处理好的文件到指定位置\n",
    "import os\n",
    "import shutil  # 用于文件复制\n",
    " \n",
    "# 定义源文件夹和目标文件夹的路径\n",
    "source_dir = r'D:\\work\\官村无人机影像'\n",
    "target_dir = r'D:\\work\\官村无人机影像_数据提取'\n",
    " \n",
    "# 确保目标文件夹存在\n",
    "if not os.path.exists(target_dir):\n",
    "    os.makedirs(target_dir)\n",
    " \n",
    "# 要查找的文件名列表\n",
    "file_names_to_find = ['multibands.csv', 'VI.csv']\n",
    " \n",
    "# 遍历源文件夹及其子文件夹\n",
    "for subdir, dirs, files in os.walk(source_dir):\n",
    "    for file_name in files:\n",
    "        if file_name in file_names_to_find:\n",
    "            # 获取上一级文件夹名（即当前子文件夹名）\n",
    "            parent_folder_name = os.path.basename(subdir)\n",
    "            \n",
    "            # 构建目标文件夹路径\n",
    "            destination_subdir = os.path.join(target_dir, parent_folder_name)\n",
    "            \n",
    "            # 确保目标子文件夹存在\n",
    "            if not os.path.exists(destination_subdir):\n",
    "                os.makedirs(destination_subdir)\n",
    "            \n",
    "            # 构建源文件和目标文件的完整路径\n",
    "            source_file = os.path.join(subdir, file_name)\n",
    "            destination_file = os.path.join(destination_subdir, file_name)\n",
    "            \n",
    "            # 复制文件\n",
    "            shutil.copy2(source_file, destination_file)\n",
    " \n",
    "print(\"文件复制完成！\")"
   ]
  }
 ],
 "metadata": {
  "kernelspec": {
   "display_name": "Python 3",
   "language": "python",
   "name": "python3"
  },
  "language_info": {
   "codemirror_mode": {
    "name": "ipython",
    "version": 3
   },
   "file_extension": ".py",
   "mimetype": "text/x-python",
   "name": "python",
   "nbconvert_exporter": "python",
   "pygments_lexer": "ipython3",
   "version": "3.9.20"
  }
 },
 "nbformat": 4,
 "nbformat_minor": 2
}
