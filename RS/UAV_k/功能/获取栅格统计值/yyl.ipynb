{
 "cells": [
  {
   "cell_type": "code",
   "execution_count": 1,
   "metadata": {},
   "outputs": [
    {
     "name": "stderr",
     "output_type": "stream",
     "text": [
      "正在批量获取multiband:   0%|          | 0/4 [00:00<?, ?it/s]"
     ]
    },
    {
     "name": "stdout",
     "output_type": "stream",
     "text": [
      "使用的是 D:\\work\\DATA\\DATA_TS4GPC\\raw\\UAV\\CXZ-WN\\clip_shp\\2024_plot_clip_shp\\plot_240312.shp 进行裁剪\n"
     ]
    },
    {
     "name": "stderr",
     "output_type": "stream",
     "text": []
    },
    {
     "name": "stdout",
     "output_type": "stream",
     "text": [
      "Blue完成\n"
     ]
    },
    {
     "name": "stderr",
     "output_type": "stream",
     "text": []
    },
    {
     "name": "stdout",
     "output_type": "stream",
     "text": [
      "Green完成\n"
     ]
    },
    {
     "name": "stderr",
     "output_type": "stream",
     "text": []
    },
    {
     "name": "stdout",
     "output_type": "stream",
     "text": [
      "NIR完成\n"
     ]
    },
    {
     "name": "stderr",
     "output_type": "stream",
     "text": []
    },
    {
     "name": "stdout",
     "output_type": "stream",
     "text": [
      "Red完成\n"
     ]
    },
    {
     "name": "stderr",
     "output_type": "stream",
     "text": [
      "正在处理0312的栅格数据: 100%|██████████| 5/5 [00:11<00:00,  2.29s/it]\n",
      "正在批量获取multiband:  25%|██▌       | 1/4 [00:11<00:34, 11.49s/it]"
     ]
    },
    {
     "name": "stdout",
     "output_type": "stream",
     "text": [
      "RedEdge完成\n",
      "使用的是 D:\\work\\DATA\\DATA_TS4GPC\\raw\\UAV\\CXZ-WN\\clip_shp\\2024_plot_clip_shp\\plot.shp 进行裁剪\n"
     ]
    },
    {
     "name": "stderr",
     "output_type": "stream",
     "text": []
    },
    {
     "name": "stdout",
     "output_type": "stream",
     "text": [
      "Blue完成\n"
     ]
    },
    {
     "name": "stderr",
     "output_type": "stream",
     "text": []
    },
    {
     "name": "stdout",
     "output_type": "stream",
     "text": [
      "Green完成\n"
     ]
    },
    {
     "name": "stderr",
     "output_type": "stream",
     "text": []
    },
    {
     "name": "stdout",
     "output_type": "stream",
     "text": [
      "NIR完成\n"
     ]
    },
    {
     "name": "stderr",
     "output_type": "stream",
     "text": []
    },
    {
     "name": "stdout",
     "output_type": "stream",
     "text": [
      "Red完成\n"
     ]
    },
    {
     "name": "stderr",
     "output_type": "stream",
     "text": [
      "正在处理0401的栅格数据: 100%|██████████| 5/5 [00:12<00:00,  2.43s/it]\n",
      "正在批量获取multiband:  50%|█████     | 2/4 [00:23<00:23, 11.90s/it]"
     ]
    },
    {
     "name": "stdout",
     "output_type": "stream",
     "text": [
      "RedEdge完成\n",
      "使用的是 D:\\work\\DATA\\DATA_TS4GPC\\raw\\UAV\\CXZ-WN\\clip_shp\\2024_plot_clip_shp\\plot.shp 进行裁剪\n"
     ]
    },
    {
     "name": "stderr",
     "output_type": "stream",
     "text": []
    },
    {
     "name": "stdout",
     "output_type": "stream",
     "text": [
      "Blue完成\n"
     ]
    },
    {
     "name": "stderr",
     "output_type": "stream",
     "text": []
    },
    {
     "name": "stdout",
     "output_type": "stream",
     "text": [
      "Green完成\n"
     ]
    },
    {
     "name": "stderr",
     "output_type": "stream",
     "text": []
    },
    {
     "name": "stdout",
     "output_type": "stream",
     "text": [
      "NIR完成\n"
     ]
    },
    {
     "name": "stderr",
     "output_type": "stream",
     "text": []
    },
    {
     "name": "stdout",
     "output_type": "stream",
     "text": [
      "Red完成\n"
     ]
    },
    {
     "name": "stderr",
     "output_type": "stream",
     "text": [
      "正在处理0409的栅格数据: 100%|██████████| 5/5 [00:12<00:00,  2.50s/it]\n",
      "正在批量获取multiband:  75%|███████▌  | 3/4 [00:36<00:12, 12.20s/it]"
     ]
    },
    {
     "name": "stdout",
     "output_type": "stream",
     "text": [
      "RedEdge完成\n",
      "使用的是 D:\\work\\DATA\\DATA_TS4GPC\\raw\\UAV\\CXZ-WN\\clip_shp\\2024_plot_clip_shp\\plot_240412.shp 进行裁剪\n"
     ]
    },
    {
     "name": "stderr",
     "output_type": "stream",
     "text": []
    },
    {
     "name": "stdout",
     "output_type": "stream",
     "text": [
      "Blue完成\n"
     ]
    },
    {
     "name": "stderr",
     "output_type": "stream",
     "text": []
    },
    {
     "name": "stdout",
     "output_type": "stream",
     "text": [
      "Green完成\n"
     ]
    },
    {
     "name": "stderr",
     "output_type": "stream",
     "text": []
    },
    {
     "name": "stdout",
     "output_type": "stream",
     "text": [
      "NIR完成\n"
     ]
    },
    {
     "name": "stderr",
     "output_type": "stream",
     "text": []
    },
    {
     "name": "stdout",
     "output_type": "stream",
     "text": [
      "Red完成\n"
     ]
    },
    {
     "name": "stderr",
     "output_type": "stream",
     "text": [
      "正在处理0412的栅格数据: 100%|██████████| 5/5 [00:16<00:00,  3.33s/it]\n",
      "正在批量获取multiband: 100%|██████████| 4/4 [00:52<00:00, 13.24s/it]"
     ]
    },
    {
     "name": "stdout",
     "output_type": "stream",
     "text": [
      "RedEdge完成\n"
     ]
    },
    {
     "name": "stderr",
     "output_type": "stream",
     "text": [
      "\n"
     ]
    }
   ],
   "source": [
    "# 使用reduce逐个合并DataFrame\n",
    "from functools import reduce\n",
    "import gc\n",
    "from get_shp_path import get_shp_files\n",
    "\n",
    "## 计算一批新无人机的VI\n",
    "from qgis.core import (\n",
    "    QgsApplication,\n",
    "    QgsVectorLayer,\n",
    "    QgsRasterLayer,\n",
    "    QgsCoordinateReferenceSystem,\n",
    "    QgsRasterInterface,\n",
    "    Qgis,\n",
    "    QgsFeedback,\n",
    "    QgsProject,\n",
    "    QgsField,\n",
    "    QgsVariantUtils,\n",
    "    QgsVectorDataProvider\n",
    ")\n",
    "from qgis.analysis import QgsZonalStatistics\n",
    "import pandas as pd\n",
    "import os\n",
    "from tqdm import tqdm\n",
    "\n",
    "QgsApplication.setPrefixPath(r'D:\\software\\tool_gis\\QGIS 3.34.12\\apps\\qgis-ltr', True)\n",
    "qgs = QgsApplication([], False)\n",
    "qgs.initQgis()\n",
    "\n",
    "def get_band(polygon_file_path,raster_file_path,band_name):\n",
    "\n",
    "    polygon_layer = QgsVectorLayer(polygon_file_path, 'Polygons', 'ogr')\n",
    "    raster_layer = QgsRasterLayer(raster_file_path, 'Raster')\n",
    "\n",
    "    if not polygon_layer.isValid() or not raster_layer.isValid():\n",
    "        raise ValueError(\"无法加载图层，请检查文件路径和格式。\")\n",
    "\n",
    "    # 计算多边形内的栅格平均值\n",
    "    zonal_stats = QgsZonalStatistics(\n",
    "        polygon_layer,\n",
    "        raster_layer,\n",
    "        stats=QgsZonalStatistics.Mean,\n",
    "        rasterBand=1\n",
    "    )\n",
    "    zonal_stats.calculateStatistics(None)\n",
    "\n",
    "    # 检索有关属性的信息\n",
    "    # for field in polygon_layer.fields():\n",
    "    #     print(field.name(), field.typeName())\n",
    "\n",
    "    data = []\n",
    "    features = polygon_layer.getFeatures()\n",
    "    for feature in features:\n",
    "        # print (feature.attributes())\n",
    "        # print(f\"Feature ID: {feature.id()}, Raster_mea: {feature[\"mean\"]}\" )\n",
    "        data.append([feature['plot_id'],feature[\"mean\"]])\n",
    "\n",
    "    # 删除mean属性表 \n",
    "    caps = polygon_layer.dataProvider().capabilities()\n",
    "    # Check if a particular capability is supported:\n",
    "    if caps & QgsVectorDataProvider.DeleteAttributes:\n",
    "        # print('The layer supports DeleteAttributes')\n",
    "        res = polygon_layer.dataProvider().deleteAttributes([3])\n",
    "    return data\n",
    "\n",
    "def batch_get_band(raster_folder_path, polygon_file_path, time):\n",
    "    multiband_name = ['Blue','Green','NIR','Red','RedEdge']\n",
    "    # 栅格文件的扩展名是.tif\n",
    "    raster_file_extension = '.tif'\n",
    "    # 存储所有波段的数据\n",
    "    all_data = {}\n",
    "    # 首先获取所有ID\n",
    "    all_ids = set()\n",
    "    \n",
    "    for band_name in tqdm(multiband_name,desc=f'正在处理{time}的栅格数据'):\n",
    "        raster_file_path = os.path.join(raster_folder_path, f\"{band_name}{raster_file_extension}\")\n",
    "        try:\n",
    "            data = get_band(polygon_file_path, raster_file_path, band_name)\n",
    "            print(f\"{band_name}完成\")\n",
    "            \n",
    "            # 存储数据和收集所有唯一的ID\n",
    "            all_data[band_name] = {row[0]: row[1] for row in data}\n",
    "            all_ids.update(id for id, _ in data)\n",
    "            \n",
    "            # 清理内存\n",
    "            del data\n",
    "            gc.collect()\n",
    "            \n",
    "        except Exception as e:\n",
    "            print(f\"处理{band_name}时发生错误：{str(e)}\")\n",
    "            continue\n",
    "\n",
    "    # 构建最终数据列表\n",
    "    final_data = []\n",
    "    for id in sorted(all_ids):  # 排序以保持一致的顺序\n",
    "        row = [id]\n",
    "        for band_name in multiband_name:\n",
    "            row.append(all_data.get(band_name, {}).get(id, None))\n",
    "        final_data.append(row)\n",
    "\n",
    "    # 一次性创建DataFrame\n",
    "    columns = ['id'] + multiband_name\n",
    "    result_df = pd.DataFrame(final_data, columns=columns)\n",
    "    \n",
    "    # 优化数据类型\n",
    "    result_df['id'] = result_df['id'].astype('int32')\n",
    "    for band in multiband_name:\n",
    "        if band in result_df.columns:\n",
    "            result_df[band] = result_df[band].astype('float32')\n",
    "\n",
    "    # 保存结果\n",
    "    out_multiband_csv_filr_path = os.path.join(raster_folder_path, \"multiband.csv\")\n",
    "    result_df.to_csv(out_multiband_csv_filr_path, index=False)\n",
    "    \n",
    "    # 清理内存\n",
    "    del result_df, all_data, final_data\n",
    "    gc.collect()\n",
    "\n",
    "# 获取地址\n",
    "polygon_file_path = r'D:\\work\\DATA\\DATA_TS4GPC\\raw\\UAV\\CXZ-WN\\clip_shp\\2024_plot_clip_shp'  # 替换为你的SHP文件路径\n",
    "#0408有缺\n",
    "l_time = ['0312','0401','0409','0412']\n",
    "list_shp_files = get_shp_files(polygon_file_path)\n",
    "\n",
    "for time in tqdm(l_time,desc='正在批量获取multiband'):\n",
    "    raster_folder_path = rf'D:\\work\\DATA\\DATA_TS4GPC\\raw\\UAV\\CXZ-WN\\CXZ-WN-2024\\CXZ-WN-24{time}' \n",
    "    for shp_file in list_shp_files:\n",
    "        if time in shp_file:\n",
    "            clip_shapefile = shp_file\n",
    "            break\n",
    "        else:\n",
    "            clip_shapefile = rf\"{polygon_file_path}\\plot.shp\"\n",
    "    print(f\"使用的是 {clip_shapefile} 进行裁剪\")\n",
    "    batch_get_band(raster_folder_path, polygon_file_path, time)\n",
    "\n",
    "qgs.exitQgis()"
   ]
  },
  {
   "cell_type": "code",
   "execution_count": 2,
   "metadata": {},
   "outputs": [
    {
     "data": {
      "text/plain": [
       "[[<function QgsFeature.id>, 0.022017243733406],\n",
       " [<function QgsFeature.id>, 0.022238849015319],\n",
       " [<function QgsFeature.id>, 0.024398337368453],\n",
       " [<function QgsFeature.id>, 0.021231108418305],\n",
       " [<function QgsFeature.id>, 0.021042457949683],\n",
       " [<function QgsFeature.id>, 0.021232169985968],\n",
       " [<function QgsFeature.id>, 0.018447675281756],\n",
       " [<function QgsFeature.id>, 0.017746535223851],\n",
       " [<function QgsFeature.id>, 0.022148178579514],\n",
       " [<function QgsFeature.id>, 0.020886332465501],\n",
       " [<function QgsFeature.id>, 0.020527766869597],\n",
       " [<function QgsFeature.id>, 0.018246426895468],\n",
       " [<function QgsFeature.id>, 0.018482152281555],\n",
       " [<function QgsFeature.id>, 0.020201297577345],\n",
       " [<function QgsFeature.id>, 0.017610908505673],\n",
       " [<function QgsFeature.id>, 0.01860836520666],\n",
       " [<function QgsFeature.id>, 0.016749428615167],\n",
       " [<function QgsFeature.id>, 0.014960615266512],\n",
       " [<function QgsFeature.id>, 0.01847354309045],\n",
       " [<function QgsFeature.id>, 0.014825766091478],\n",
       " [<function QgsFeature.id>, 0.015903058408084],\n",
       " [<function QgsFeature.id>, 0.015102470558712],\n",
       " [<function QgsFeature.id>, 0.01385355972188],\n",
       " [<function QgsFeature.id>, 0.012469031964833],\n",
       " [<function QgsFeature.id>, 0.015902335540969],\n",
       " [<function QgsFeature.id>, 0.017265565792132],\n",
       " [<function QgsFeature.id>, 0.015713180567233],\n",
       " [<function QgsFeature.id>, 0.01432352778726],\n",
       " [<function QgsFeature.id>, 0.013402833911363],\n",
       " [<function QgsFeature.id>, 0.015902528686987],\n",
       " [<function QgsFeature.id>, 0.013006595614822],\n",
       " [<function QgsFeature.id>, 0.014095125124002],\n",
       " [<function QgsFeature.id>, 0.014388110181738],\n",
       " [<function QgsFeature.id>, 0.014162814301769],\n",
       " [<function QgsFeature.id>, 0.016424659245711],\n",
       " [<function QgsFeature.id>, 0.013560397885916],\n",
       " [<function QgsFeature.id>, 0.01335296561982],\n",
       " [<function QgsFeature.id>, 0.015304702991283],\n",
       " [<function QgsFeature.id>, 0.013871756025849],\n",
       " [<function QgsFeature.id>, 0.013066711264615],\n",
       " [<function QgsFeature.id>, 0.015003249589597],\n",
       " [<function QgsFeature.id>, 0.017045939304006],\n",
       " [<function QgsFeature.id>, 0.014811781591932],\n",
       " [<function QgsFeature.id>, 0.013416048814164],\n",
       " [<function QgsFeature.id>, 0.012562533043276],\n",
       " [<function QgsFeature.id>, 0.014907912697913],\n",
       " [<function QgsFeature.id>, 0.012290699849645],\n",
       " [<function QgsFeature.id>, 0.016934497484742],\n",
       " [<function QgsFeature.id>, 0.014264377225588],\n",
       " [<function QgsFeature.id>, 0.014435343667991],\n",
       " [<function QgsFeature.id>, 0.016326710836429],\n",
       " [<function QgsFeature.id>, 0.01317197550851],\n",
       " [<function QgsFeature.id>, 0.012477191866078],\n",
       " [<function QgsFeature.id>, 0.014551044455382],\n",
       " [<function QgsFeature.id>, 0.014180307525208],\n",
       " [<function QgsFeature.id>, 0.01400235384903],\n",
       " [<function QgsFeature.id>, 0.01472353384191],\n",
       " [<function QgsFeature.id>, 0.015716079772058],\n",
       " [<function QgsFeature.id>, 0.015431806769689],\n",
       " [<function QgsFeature.id>, 0.013587443368747],\n",
       " [<function QgsFeature.id>, 0.012663810338124],\n",
       " [<function QgsFeature.id>, 0.015206432454965],\n",
       " [<function QgsFeature.id>, 0.012904174832481],\n",
       " [<function QgsFeature.id>, 0.012274121716919],\n",
       " [<function QgsFeature.id>, 0.014603603981594],\n",
       " [<function QgsFeature.id>, 0.013536051919254],\n",
       " [<function QgsFeature.id>, 0.015868235266111],\n",
       " [<function QgsFeature.id>, 0.012221133568612],\n",
       " [<function QgsFeature.id>, 0.012355492065089],\n",
       " [<function QgsFeature.id>, 0.012990447878625],\n",
       " [<function QgsFeature.id>, 0.013348008348695],\n",
       " [<function QgsFeature.id>, 0.012658042992387],\n",
       " [<function QgsFeature.id>, 0.015664464736106],\n",
       " [<function QgsFeature.id>, 0.015463228029807],\n",
       " [<function QgsFeature.id>, 0.015891091619092],\n",
       " [<function QgsFeature.id>, 0.015407098595528],\n",
       " [<function QgsFeature.id>, 0.014352330650579],\n",
       " [<function QgsFeature.id>, 0.016488674916816],\n",
       " [<function QgsFeature.id>, 0.013326171379259],\n",
       " [<function QgsFeature.id>, 0.011666183809519],\n",
       " [<function QgsFeature.id>, 0.018598491628531],\n",
       " [<function QgsFeature.id>, 0.020007640345308],\n",
       " [<function QgsFeature.id>, 0.023826797975729],\n",
       " [<function QgsFeature.id>, 0.022478317468201],\n",
       " [<function QgsFeature.id>, 0.023220081898405],\n",
       " [<function QgsFeature.id>, 0.022154795257079],\n",
       " [<function QgsFeature.id>, 0.02036008952997],\n",
       " [<function QgsFeature.id>, 0.021195188670595],\n",
       " [<function QgsFeature.id>, 0.019233890758182],\n",
       " [<function QgsFeature.id>, 0.019007261555876],\n",
       " [<function QgsFeature.id>, 0.019135983401009],\n",
       " [<function QgsFeature.id>, 0.020022821366726],\n",
       " [<function QgsFeature.id>, 0.019064142941974],\n",
       " [<function QgsFeature.id>, 0.020729016710521],\n",
       " [<function QgsFeature.id>, 0.019056444348412],\n",
       " [<function QgsFeature.id>, 0.020726228487611],\n",
       " [<function QgsFeature.id>, 0.013101667616866],\n",
       " [<function QgsFeature.id>, 0.012792023977925],\n",
       " [<function QgsFeature.id>, 0.014167364068508],\n",
       " [<function QgsFeature.id>, 0.014217915467927],\n",
       " [<function QgsFeature.id>, 0.014608857813075],\n",
       " [<function QgsFeature.id>, 0.015042535408802],\n",
       " [<function QgsFeature.id>, 0.014446319198113],\n",
       " [<function QgsFeature.id>, 0.014907335889354],\n",
       " [<function QgsFeature.id>, 0.013258143965739],\n",
       " [<function QgsFeature.id>, 0.014039306596031],\n",
       " [<function QgsFeature.id>, 0.013570511593209],\n",
       " [<function QgsFeature.id>, 0.01433061347563],\n",
       " [<function QgsFeature.id>, 0.012948505518069],\n",
       " [<function QgsFeature.id>, 0.015467357294481],\n",
       " [<function QgsFeature.id>, 0.013212408030373],\n",
       " [<function QgsFeature.id>, 0.014714620487903],\n",
       " [<function QgsFeature.id>, 0.011685662073238],\n",
       " [<function QgsFeature.id>, 0.012399544225332],\n",
       " [<function QgsFeature.id>, 0.013945759555256],\n",
       " [<function QgsFeature.id>, 0.013196938842141],\n",
       " [<function QgsFeature.id>, 0.014957298240788],\n",
       " [<function QgsFeature.id>, 0.016342387327709],\n",
       " [<function QgsFeature.id>, 0.014307526620495],\n",
       " [<function QgsFeature.id>, 0.014421305945767],\n",
       " [<function QgsFeature.id>, 0.012124878893648],\n",
       " [<function QgsFeature.id>, 0.013459802477125],\n",
       " [<function QgsFeature.id>, 0.014202162650698],\n",
       " [<function QgsFeature.id>, 0.014619714963608],\n",
       " [<function QgsFeature.id>, 0.013827482188459],\n",
       " [<function QgsFeature.id>, 0.015928365418178],\n",
       " [<function QgsFeature.id>, 0.012664949840504],\n",
       " [<function QgsFeature.id>, 0.012074876010179],\n",
       " [<function QgsFeature.id>, 0.012024340464118],\n",
       " [<function QgsFeature.id>, 0.012442688980305],\n",
       " [<function QgsFeature.id>, 0.013988354924486],\n",
       " [<function QgsFeature.id>, 0.01275652208594],\n",
       " [<function QgsFeature.id>, 0.013835922385503],\n",
       " [<function QgsFeature.id>, 0.014703569364585],\n",
       " [<function QgsFeature.id>, 0.014567127462091],\n",
       " [<function QgsFeature.id>, 0.014981960383859],\n",
       " [<function QgsFeature.id>, 0.011435548626702],\n",
       " [<function QgsFeature.id>, 0.013021637598044],\n",
       " [<function QgsFeature.id>, 0.012622034003653],\n",
       " [<function QgsFeature.id>, 0.013679432414845],\n",
       " [<function QgsFeature.id>, 0.013671638881168],\n",
       " [<function QgsFeature.id>, 0.016032526009629],\n",
       " [<function QgsFeature.id>, 0.012515545634731],\n",
       " [<function QgsFeature.id>, 0.011732892596161],\n",
       " [<function QgsFeature.id>, 0.012372633035759],\n",
       " [<function QgsFeature.id>, 0.01330007864537],\n",
       " [<function QgsFeature.id>, 0.013663892300728],\n",
       " [<function QgsFeature.id>, 0.01214143120435],\n",
       " [<function QgsFeature.id>, 0.012677456651653],\n",
       " [<function QgsFeature.id>, 0.012488295078574],\n",
       " [<function QgsFeature.id>, 0.01310446269242],\n",
       " [<function QgsFeature.id>, 0.013099698148468],\n",
       " [<function QgsFeature.id>, 0.011536287758256],\n",
       " [<function QgsFeature.id>, 0.013248361365429],\n",
       " [<function QgsFeature.id>, 0.012276774942806],\n",
       " [<function QgsFeature.id>, 0.013822870409058],\n",
       " [<function QgsFeature.id>, 0.013166285326572],\n",
       " [<function QgsFeature.id>, 0.016633737414649],\n",
       " [<function QgsFeature.id>, 0.01272244077254],\n",
       " [<function QgsFeature.id>, 0.011842757487396],\n",
       " [<function QgsFeature.id>, 0.022118439031388],\n",
       " [<function QgsFeature.id>, 0.023790044823673],\n",
       " [<function QgsFeature.id>, 0.025617281039857],\n",
       " [<function QgsFeature.id>, 0.025848610719395],\n",
       " [<function QgsFeature.id>, 0.026806639817758],\n",
       " [<function QgsFeature.id>, 0.025224442777216],\n",
       " [<function QgsFeature.id>, 0.024144125477272],\n",
       " [<function QgsFeature.id>, 0.022743673189036],\n",
       " [<function QgsFeature.id>, 0.02132104498735],\n",
       " [<function QgsFeature.id>, 0.02107792679115],\n",
       " [<function QgsFeature.id>, 0.020633796856867],\n",
       " [<function QgsFeature.id>, 0.021322800436144],\n",
       " [<function QgsFeature.id>, 0.021553165491415],\n",
       " [<function QgsFeature.id>, 0.022280665981635],\n",
       " [<function QgsFeature.id>, 0.021983019593917],\n",
       " [<function QgsFeature.id>, 0.021376358271066],\n",
       " [<function QgsFeature.id>, 0.013775085266513],\n",
       " [<function QgsFeature.id>, 0.014053691292103],\n",
       " [<function QgsFeature.id>, 0.01840530883801],\n",
       " [<function QgsFeature.id>, 0.018885041228025],\n",
       " [<function QgsFeature.id>, 0.018426382487256],\n",
       " [<function QgsFeature.id>, 0.017507826662451],\n",
       " [<function QgsFeature.id>, 0.016645322181531],\n",
       " [<function QgsFeature.id>, 0.016534564304236],\n",
       " [<function QgsFeature.id>, 0.015929830690298],\n",
       " [<function QgsFeature.id>, 0.016534136037397],\n",
       " [<function QgsFeature.id>, 0.016627301831654],\n",
       " [<function QgsFeature.id>, 0.018001559767343],\n",
       " [<function QgsFeature.id>, 0.016336860128552],\n",
       " [<function QgsFeature.id>, 0.018059113494169],\n",
       " [<function QgsFeature.id>, 0.014922138296175],\n",
       " [<function QgsFeature.id>, 0.014824725712409],\n",
       " [<function QgsFeature.id>, 0.012828617606066],\n",
       " [<function QgsFeature.id>, 0.013289037989154],\n",
       " [<function QgsFeature.id>, 0.016736623891693],\n",
       " [<function QgsFeature.id>, 0.016247331973023],\n",
       " [<function QgsFeature.id>, 0.017300295372756],\n",
       " [<function QgsFeature.id>, 0.016975359560164],\n",
       " [<function QgsFeature.id>, 0.016250454476016],\n",
       " [<function QgsFeature.id>, 0.015301536859994],\n",
       " [<function QgsFeature.id>, 0.01634883561884],\n",
       " [<function QgsFeature.id>, 0.016379732980312],\n",
       " [<function QgsFeature.id>, 0.016456422452798],\n",
       " [<function QgsFeature.id>, 0.017968219870322],\n",
       " [<function QgsFeature.id>, 0.016890882589459],\n",
       " [<function QgsFeature.id>, 0.017465935231614],\n",
       " [<function QgsFeature.id>, 0.013683784151992],\n",
       " [<function QgsFeature.id>, 0.013464133471363],\n",
       " [<function QgsFeature.id>, 0.013693162181594],\n",
       " [<function QgsFeature.id>, 0.013776617766039],\n",
       " [<function QgsFeature.id>, 0.016618079745766],\n",
       " [<function QgsFeature.id>, 0.016003976519912],\n",
       " [<function QgsFeature.id>, 0.016369335456061],\n",
       " [<function QgsFeature.id>, 0.014893170063671],\n",
       " [<function QgsFeature.id>, 0.015632755893574],\n",
       " [<function QgsFeature.id>, 0.014472230642784],\n",
       " [<function QgsFeature.id>, 0.013561424998898],\n",
       " [<function QgsFeature.id>, 0.015805069860416],\n",
       " [<function QgsFeature.id>, 0.015856934374604],\n",
       " [<function QgsFeature.id>, 0.016906124063454],\n",
       " [<function QgsFeature.id>, 0.015940502648464],\n",
       " [<function QgsFeature.id>, 0.016433323359489],\n",
       " [<function QgsFeature.id>, 0.013732037648167],\n",
       " [<function QgsFeature.id>, 0.012467729522347],\n",
       " [<function QgsFeature.id>, 0.012766232561255],\n",
       " [<function QgsFeature.id>, 0.013109371022993],\n",
       " [<function QgsFeature.id>, 0.016861070186319],\n",
       " [<function QgsFeature.id>, 0.014944930723036],\n",
       " [<function QgsFeature.id>, 0.015135880649767],\n",
       " [<function QgsFeature.id>, 0.014179650141484],\n",
       " [<function QgsFeature.id>, 0.015180799806366],\n",
       " [<function QgsFeature.id>, 0.015236900652833],\n",
       " [<function QgsFeature.id>, 0.012639590475658],\n",
       " [<function QgsFeature.id>, 0.01563972096985],\n",
       " [<function QgsFeature.id>, 0.015520960938909],\n",
       " [<function QgsFeature.id>, 0.018368204250286],\n",
       " [<function QgsFeature.id>, 0.016590621311263],\n",
       " [<function QgsFeature.id>, 0.018256035328197],\n",
       " [<function QgsFeature.id>, 0.013989540242323],\n",
       " [<function QgsFeature.id>, 0.013710659541656]]"
      ]
     },
     "execution_count": 2,
     "metadata": {},
     "output_type": "execute_result"
    }
   ],
   "source": [
    "polygon_file_path = r'D:\\work\\DATA\\DATA_TS4GPC\\raw\\UAV\\CXZ-WN\\clip_shp\\2024_plot_clip_shp\\plot_240312.shp'\n",
    "raster_file_path = r'D:\\work\\DATA\\DATA_TS4GPC\\raw\\UAV\\CXZ-WN\\CXZ-WN-2024\\CXZ-WN-240312\\Blue.tif'\n",
    "band_name = 'Blue'\n",
    "data = get_band(polygon_file_path,raster_file_path,band_name)\n",
    "data"
   ]
  }
 ],
 "metadata": {
  "kernelspec": {
   "display_name": "qgis",
   "language": "python",
   "name": "python3"
  },
  "language_info": {
   "codemirror_mode": {
    "name": "ipython",
    "version": 3
   },
   "file_extension": ".py",
   "mimetype": "text/x-python",
   "name": "python",
   "nbconvert_exporter": "python",
   "pygments_lexer": "ipython3",
   "version": "3.12.9"
  }
 },
 "nbformat": 4,
 "nbformat_minor": 2
}
